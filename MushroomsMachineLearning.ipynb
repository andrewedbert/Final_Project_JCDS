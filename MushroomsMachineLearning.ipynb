{
 "cells": [
  {
   "cell_type": "markdown",
   "metadata": {},
   "source": [
    "# Poisonous Mushrooms Classification"
   ]
  },
  {
   "cell_type": "markdown",
   "metadata": {},
   "source": [
    "## 1. Importing required libraries"
   ]
  },
  {
   "cell_type": "code",
   "execution_count": 1,
   "metadata": {},
   "outputs": [],
   "source": [
    "import numpy as np\n",
    "import pandas as pd\n",
    "from sklearn.preprocessing import LabelEncoder\n",
    "import matplotlib.pyplot as plt\n",
    "from sklearn.model_selection import train_test_split\n",
    "from sklearn.ensemble import RandomForestClassifier\n",
    "from sklearn.metrics import confusion_matrix,classification_report,matthews_corrcoef, roc_auc_score, confusion_matrix, accuracy_score, roc_curve, auc,f1_score\n",
    "from sklearn.neighbors import KNeighborsClassifier\n",
    "from sklearn.model_selection import cross_val_score\n",
    "import seaborn as sb\n",
    "from sklearn.linear_model import LogisticRegression"
   ]
  },
  {
   "cell_type": "markdown",
   "metadata": {},
   "source": [
    "## 2. Reading CSV Data"
   ]
  },
  {
   "cell_type": "code",
   "execution_count": 2,
   "metadata": {},
   "outputs": [
    {
     "data": {
      "text/html": [
       "<div>\n",
       "<style scoped>\n",
       "    .dataframe tbody tr th:only-of-type {\n",
       "        vertical-align: middle;\n",
       "    }\n",
       "\n",
       "    .dataframe tbody tr th {\n",
       "        vertical-align: top;\n",
       "    }\n",
       "\n",
       "    .dataframe thead th {\n",
       "        text-align: right;\n",
       "    }\n",
       "</style>\n",
       "<table border=\"1\" class=\"dataframe\">\n",
       "  <thead>\n",
       "    <tr style=\"text-align: right;\">\n",
       "      <th></th>\n",
       "      <th>class</th>\n",
       "      <th>cap-shape</th>\n",
       "      <th>cap-surface</th>\n",
       "      <th>cap-color</th>\n",
       "      <th>bruises</th>\n",
       "      <th>odor</th>\n",
       "      <th>gill-attachment</th>\n",
       "      <th>gill-spacing</th>\n",
       "      <th>gill-size</th>\n",
       "      <th>gill-color</th>\n",
       "      <th>...</th>\n",
       "      <th>stalk-surface-above-ring</th>\n",
       "      <th>stalk-surface-below-ring</th>\n",
       "      <th>stalk-color-above-ring</th>\n",
       "      <th>stalk-color-below-ring</th>\n",
       "      <th>veil-color</th>\n",
       "      <th>ring-number</th>\n",
       "      <th>ring-type</th>\n",
       "      <th>spore-print-color</th>\n",
       "      <th>population</th>\n",
       "      <th>habitat</th>\n",
       "    </tr>\n",
       "  </thead>\n",
       "  <tbody>\n",
       "    <tr>\n",
       "      <td>0</td>\n",
       "      <td>p</td>\n",
       "      <td>x</td>\n",
       "      <td>s</td>\n",
       "      <td>n</td>\n",
       "      <td>t</td>\n",
       "      <td>p</td>\n",
       "      <td>f</td>\n",
       "      <td>c</td>\n",
       "      <td>n</td>\n",
       "      <td>k</td>\n",
       "      <td>...</td>\n",
       "      <td>s</td>\n",
       "      <td>s</td>\n",
       "      <td>w</td>\n",
       "      <td>w</td>\n",
       "      <td>w</td>\n",
       "      <td>o</td>\n",
       "      <td>p</td>\n",
       "      <td>k</td>\n",
       "      <td>s</td>\n",
       "      <td>u</td>\n",
       "    </tr>\n",
       "    <tr>\n",
       "      <td>1</td>\n",
       "      <td>e</td>\n",
       "      <td>x</td>\n",
       "      <td>s</td>\n",
       "      <td>y</td>\n",
       "      <td>t</td>\n",
       "      <td>a</td>\n",
       "      <td>f</td>\n",
       "      <td>c</td>\n",
       "      <td>b</td>\n",
       "      <td>k</td>\n",
       "      <td>...</td>\n",
       "      <td>s</td>\n",
       "      <td>s</td>\n",
       "      <td>w</td>\n",
       "      <td>w</td>\n",
       "      <td>w</td>\n",
       "      <td>o</td>\n",
       "      <td>p</td>\n",
       "      <td>n</td>\n",
       "      <td>n</td>\n",
       "      <td>g</td>\n",
       "    </tr>\n",
       "    <tr>\n",
       "      <td>2</td>\n",
       "      <td>e</td>\n",
       "      <td>b</td>\n",
       "      <td>s</td>\n",
       "      <td>w</td>\n",
       "      <td>t</td>\n",
       "      <td>l</td>\n",
       "      <td>f</td>\n",
       "      <td>c</td>\n",
       "      <td>b</td>\n",
       "      <td>n</td>\n",
       "      <td>...</td>\n",
       "      <td>s</td>\n",
       "      <td>s</td>\n",
       "      <td>w</td>\n",
       "      <td>w</td>\n",
       "      <td>w</td>\n",
       "      <td>o</td>\n",
       "      <td>p</td>\n",
       "      <td>n</td>\n",
       "      <td>n</td>\n",
       "      <td>m</td>\n",
       "    </tr>\n",
       "    <tr>\n",
       "      <td>3</td>\n",
       "      <td>p</td>\n",
       "      <td>x</td>\n",
       "      <td>y</td>\n",
       "      <td>w</td>\n",
       "      <td>t</td>\n",
       "      <td>p</td>\n",
       "      <td>f</td>\n",
       "      <td>c</td>\n",
       "      <td>n</td>\n",
       "      <td>n</td>\n",
       "      <td>...</td>\n",
       "      <td>s</td>\n",
       "      <td>s</td>\n",
       "      <td>w</td>\n",
       "      <td>w</td>\n",
       "      <td>w</td>\n",
       "      <td>o</td>\n",
       "      <td>p</td>\n",
       "      <td>k</td>\n",
       "      <td>s</td>\n",
       "      <td>u</td>\n",
       "    </tr>\n",
       "    <tr>\n",
       "      <td>4</td>\n",
       "      <td>e</td>\n",
       "      <td>x</td>\n",
       "      <td>s</td>\n",
       "      <td>g</td>\n",
       "      <td>f</td>\n",
       "      <td>n</td>\n",
       "      <td>f</td>\n",
       "      <td>w</td>\n",
       "      <td>b</td>\n",
       "      <td>k</td>\n",
       "      <td>...</td>\n",
       "      <td>s</td>\n",
       "      <td>s</td>\n",
       "      <td>w</td>\n",
       "      <td>w</td>\n",
       "      <td>w</td>\n",
       "      <td>o</td>\n",
       "      <td>e</td>\n",
       "      <td>n</td>\n",
       "      <td>a</td>\n",
       "      <td>g</td>\n",
       "    </tr>\n",
       "  </tbody>\n",
       "</table>\n",
       "<p>5 rows × 22 columns</p>\n",
       "</div>"
      ],
      "text/plain": [
       "  class cap-shape cap-surface cap-color bruises odor gill-attachment  \\\n",
       "0     p         x           s         n       t    p               f   \n",
       "1     e         x           s         y       t    a               f   \n",
       "2     e         b           s         w       t    l               f   \n",
       "3     p         x           y         w       t    p               f   \n",
       "4     e         x           s         g       f    n               f   \n",
       "\n",
       "  gill-spacing gill-size gill-color  ... stalk-surface-above-ring  \\\n",
       "0            c         n          k  ...                        s   \n",
       "1            c         b          k  ...                        s   \n",
       "2            c         b          n  ...                        s   \n",
       "3            c         n          n  ...                        s   \n",
       "4            w         b          k  ...                        s   \n",
       "\n",
       "  stalk-surface-below-ring stalk-color-above-ring stalk-color-below-ring  \\\n",
       "0                        s                      w                      w   \n",
       "1                        s                      w                      w   \n",
       "2                        s                      w                      w   \n",
       "3                        s                      w                      w   \n",
       "4                        s                      w                      w   \n",
       "\n",
       "  veil-color ring-number ring-type spore-print-color population habitat  \n",
       "0          w           o         p                 k          s       u  \n",
       "1          w           o         p                 n          n       g  \n",
       "2          w           o         p                 n          n       m  \n",
       "3          w           o         p                 k          s       u  \n",
       "4          w           o         e                 n          a       g  \n",
       "\n",
       "[5 rows x 22 columns]"
      ]
     },
     "execution_count": 2,
     "metadata": {},
     "output_type": "execute_result"
    }
   ],
   "source": [
    "dfmushroom = pd.read_csv('mushrooms.csv')\n",
    "dfmushroom.head()"
   ]
  },
  {
   "cell_type": "markdown",
   "metadata": {},
   "source": [
    "## 3. Translating Alphabetical signs into words from 'Mushroom Notes.txt' notes"
   ]
  },
  {
   "cell_type": "code",
   "execution_count": 3,
   "metadata": {},
   "outputs": [
    {
     "data": {
      "text/html": [
       "<div>\n",
       "<style scoped>\n",
       "    .dataframe tbody tr th:only-of-type {\n",
       "        vertical-align: middle;\n",
       "    }\n",
       "\n",
       "    .dataframe tbody tr th {\n",
       "        vertical-align: top;\n",
       "    }\n",
       "\n",
       "    .dataframe thead th {\n",
       "        text-align: right;\n",
       "    }\n",
       "</style>\n",
       "<table border=\"1\" class=\"dataframe\">\n",
       "  <thead>\n",
       "    <tr style=\"text-align: right;\">\n",
       "      <th></th>\n",
       "      <th>class</th>\n",
       "      <th>cap-shape</th>\n",
       "      <th>cap-surface</th>\n",
       "      <th>cap-color</th>\n",
       "      <th>bruises</th>\n",
       "      <th>odor</th>\n",
       "      <th>gill-attachment</th>\n",
       "      <th>gill-spacing</th>\n",
       "      <th>gill-size</th>\n",
       "      <th>gill-color</th>\n",
       "      <th>...</th>\n",
       "      <th>stalk-surface-above-ring</th>\n",
       "      <th>stalk-surface-below-ring</th>\n",
       "      <th>stalk-color-above-ring</th>\n",
       "      <th>stalk-color-below-ring</th>\n",
       "      <th>veil-color</th>\n",
       "      <th>ring-number</th>\n",
       "      <th>ring-type</th>\n",
       "      <th>spore-print-color</th>\n",
       "      <th>population</th>\n",
       "      <th>habitat</th>\n",
       "    </tr>\n",
       "  </thead>\n",
       "  <tbody>\n",
       "    <tr>\n",
       "      <td>0</td>\n",
       "      <td>poisonous</td>\n",
       "      <td>convex</td>\n",
       "      <td>smooth</td>\n",
       "      <td>brown</td>\n",
       "      <td>bruises</td>\n",
       "      <td>pungent</td>\n",
       "      <td>free</td>\n",
       "      <td>close</td>\n",
       "      <td>narrow</td>\n",
       "      <td>black</td>\n",
       "      <td>...</td>\n",
       "      <td>smooth</td>\n",
       "      <td>smooth</td>\n",
       "      <td>white</td>\n",
       "      <td>white</td>\n",
       "      <td>white</td>\n",
       "      <td>one</td>\n",
       "      <td>pendant</td>\n",
       "      <td>black</td>\n",
       "      <td>scattered</td>\n",
       "      <td>urban</td>\n",
       "    </tr>\n",
       "    <tr>\n",
       "      <td>1</td>\n",
       "      <td>non-poisonous</td>\n",
       "      <td>convex</td>\n",
       "      <td>smooth</td>\n",
       "      <td>yellow</td>\n",
       "      <td>bruises</td>\n",
       "      <td>almond</td>\n",
       "      <td>free</td>\n",
       "      <td>close</td>\n",
       "      <td>broad</td>\n",
       "      <td>black</td>\n",
       "      <td>...</td>\n",
       "      <td>smooth</td>\n",
       "      <td>smooth</td>\n",
       "      <td>white</td>\n",
       "      <td>white</td>\n",
       "      <td>white</td>\n",
       "      <td>one</td>\n",
       "      <td>pendant</td>\n",
       "      <td>brown</td>\n",
       "      <td>numerous</td>\n",
       "      <td>grasses</td>\n",
       "    </tr>\n",
       "    <tr>\n",
       "      <td>2</td>\n",
       "      <td>non-poisonous</td>\n",
       "      <td>bell</td>\n",
       "      <td>smooth</td>\n",
       "      <td>white</td>\n",
       "      <td>bruises</td>\n",
       "      <td>anise</td>\n",
       "      <td>free</td>\n",
       "      <td>close</td>\n",
       "      <td>broad</td>\n",
       "      <td>brown</td>\n",
       "      <td>...</td>\n",
       "      <td>smooth</td>\n",
       "      <td>smooth</td>\n",
       "      <td>white</td>\n",
       "      <td>white</td>\n",
       "      <td>white</td>\n",
       "      <td>one</td>\n",
       "      <td>pendant</td>\n",
       "      <td>brown</td>\n",
       "      <td>numerous</td>\n",
       "      <td>meadows</td>\n",
       "    </tr>\n",
       "    <tr>\n",
       "      <td>3</td>\n",
       "      <td>poisonous</td>\n",
       "      <td>convex</td>\n",
       "      <td>scaly</td>\n",
       "      <td>white</td>\n",
       "      <td>bruises</td>\n",
       "      <td>pungent</td>\n",
       "      <td>free</td>\n",
       "      <td>close</td>\n",
       "      <td>narrow</td>\n",
       "      <td>brown</td>\n",
       "      <td>...</td>\n",
       "      <td>smooth</td>\n",
       "      <td>smooth</td>\n",
       "      <td>white</td>\n",
       "      <td>white</td>\n",
       "      <td>white</td>\n",
       "      <td>one</td>\n",
       "      <td>pendant</td>\n",
       "      <td>black</td>\n",
       "      <td>scattered</td>\n",
       "      <td>urban</td>\n",
       "    </tr>\n",
       "    <tr>\n",
       "      <td>4</td>\n",
       "      <td>non-poisonous</td>\n",
       "      <td>convex</td>\n",
       "      <td>smooth</td>\n",
       "      <td>gray</td>\n",
       "      <td>no</td>\n",
       "      <td>none</td>\n",
       "      <td>free</td>\n",
       "      <td>crowded</td>\n",
       "      <td>broad</td>\n",
       "      <td>black</td>\n",
       "      <td>...</td>\n",
       "      <td>smooth</td>\n",
       "      <td>smooth</td>\n",
       "      <td>white</td>\n",
       "      <td>white</td>\n",
       "      <td>white</td>\n",
       "      <td>one</td>\n",
       "      <td>evanescent</td>\n",
       "      <td>brown</td>\n",
       "      <td>abundant</td>\n",
       "      <td>grasses</td>\n",
       "    </tr>\n",
       "    <tr>\n",
       "      <td>...</td>\n",
       "      <td>...</td>\n",
       "      <td>...</td>\n",
       "      <td>...</td>\n",
       "      <td>...</td>\n",
       "      <td>...</td>\n",
       "      <td>...</td>\n",
       "      <td>...</td>\n",
       "      <td>...</td>\n",
       "      <td>...</td>\n",
       "      <td>...</td>\n",
       "      <td>...</td>\n",
       "      <td>...</td>\n",
       "      <td>...</td>\n",
       "      <td>...</td>\n",
       "      <td>...</td>\n",
       "      <td>...</td>\n",
       "      <td>...</td>\n",
       "      <td>...</td>\n",
       "      <td>...</td>\n",
       "      <td>...</td>\n",
       "      <td>...</td>\n",
       "    </tr>\n",
       "    <tr>\n",
       "      <td>8119</td>\n",
       "      <td>non-poisonous</td>\n",
       "      <td>knobbed</td>\n",
       "      <td>smooth</td>\n",
       "      <td>brown</td>\n",
       "      <td>no</td>\n",
       "      <td>none</td>\n",
       "      <td>attached</td>\n",
       "      <td>close</td>\n",
       "      <td>broad</td>\n",
       "      <td>yellow</td>\n",
       "      <td>...</td>\n",
       "      <td>smooth</td>\n",
       "      <td>smooth</td>\n",
       "      <td>orange</td>\n",
       "      <td>orange</td>\n",
       "      <td>orange</td>\n",
       "      <td>one</td>\n",
       "      <td>pendant</td>\n",
       "      <td>buff</td>\n",
       "      <td>clustered</td>\n",
       "      <td>leaves</td>\n",
       "    </tr>\n",
       "    <tr>\n",
       "      <td>8120</td>\n",
       "      <td>non-poisonous</td>\n",
       "      <td>convex</td>\n",
       "      <td>smooth</td>\n",
       "      <td>brown</td>\n",
       "      <td>no</td>\n",
       "      <td>none</td>\n",
       "      <td>attached</td>\n",
       "      <td>close</td>\n",
       "      <td>broad</td>\n",
       "      <td>yellow</td>\n",
       "      <td>...</td>\n",
       "      <td>smooth</td>\n",
       "      <td>smooth</td>\n",
       "      <td>orange</td>\n",
       "      <td>orange</td>\n",
       "      <td>brown</td>\n",
       "      <td>one</td>\n",
       "      <td>pendant</td>\n",
       "      <td>buff</td>\n",
       "      <td>several</td>\n",
       "      <td>leaves</td>\n",
       "    </tr>\n",
       "    <tr>\n",
       "      <td>8121</td>\n",
       "      <td>non-poisonous</td>\n",
       "      <td>flat</td>\n",
       "      <td>smooth</td>\n",
       "      <td>brown</td>\n",
       "      <td>no</td>\n",
       "      <td>none</td>\n",
       "      <td>attached</td>\n",
       "      <td>close</td>\n",
       "      <td>broad</td>\n",
       "      <td>brown</td>\n",
       "      <td>...</td>\n",
       "      <td>smooth</td>\n",
       "      <td>smooth</td>\n",
       "      <td>orange</td>\n",
       "      <td>orange</td>\n",
       "      <td>orange</td>\n",
       "      <td>one</td>\n",
       "      <td>pendant</td>\n",
       "      <td>buff</td>\n",
       "      <td>clustered</td>\n",
       "      <td>leaves</td>\n",
       "    </tr>\n",
       "    <tr>\n",
       "      <td>8122</td>\n",
       "      <td>poisonous</td>\n",
       "      <td>knobbed</td>\n",
       "      <td>scaly</td>\n",
       "      <td>brown</td>\n",
       "      <td>no</td>\n",
       "      <td>fishy</td>\n",
       "      <td>free</td>\n",
       "      <td>close</td>\n",
       "      <td>narrow</td>\n",
       "      <td>buff</td>\n",
       "      <td>...</td>\n",
       "      <td>smooth</td>\n",
       "      <td>silky</td>\n",
       "      <td>white</td>\n",
       "      <td>white</td>\n",
       "      <td>white</td>\n",
       "      <td>one</td>\n",
       "      <td>evanescent</td>\n",
       "      <td>white</td>\n",
       "      <td>several</td>\n",
       "      <td>leaves</td>\n",
       "    </tr>\n",
       "    <tr>\n",
       "      <td>8123</td>\n",
       "      <td>non-poisonous</td>\n",
       "      <td>convex</td>\n",
       "      <td>smooth</td>\n",
       "      <td>brown</td>\n",
       "      <td>no</td>\n",
       "      <td>none</td>\n",
       "      <td>attached</td>\n",
       "      <td>close</td>\n",
       "      <td>broad</td>\n",
       "      <td>yellow</td>\n",
       "      <td>...</td>\n",
       "      <td>smooth</td>\n",
       "      <td>smooth</td>\n",
       "      <td>orange</td>\n",
       "      <td>orange</td>\n",
       "      <td>orange</td>\n",
       "      <td>one</td>\n",
       "      <td>pendant</td>\n",
       "      <td>orange</td>\n",
       "      <td>clustered</td>\n",
       "      <td>leaves</td>\n",
       "    </tr>\n",
       "  </tbody>\n",
       "</table>\n",
       "<p>8124 rows × 22 columns</p>\n",
       "</div>"
      ],
      "text/plain": [
       "              class cap-shape cap-surface cap-color  bruises     odor  \\\n",
       "0         poisonous    convex      smooth     brown  bruises  pungent   \n",
       "1     non-poisonous    convex      smooth    yellow  bruises   almond   \n",
       "2     non-poisonous      bell      smooth     white  bruises    anise   \n",
       "3         poisonous    convex       scaly     white  bruises  pungent   \n",
       "4     non-poisonous    convex      smooth      gray       no     none   \n",
       "...             ...       ...         ...       ...      ...      ...   \n",
       "8119  non-poisonous   knobbed      smooth     brown       no     none   \n",
       "8120  non-poisonous    convex      smooth     brown       no     none   \n",
       "8121  non-poisonous      flat      smooth     brown       no     none   \n",
       "8122      poisonous   knobbed       scaly     brown       no    fishy   \n",
       "8123  non-poisonous    convex      smooth     brown       no     none   \n",
       "\n",
       "     gill-attachment gill-spacing gill-size gill-color  ...  \\\n",
       "0               free        close    narrow      black  ...   \n",
       "1               free        close     broad      black  ...   \n",
       "2               free        close     broad      brown  ...   \n",
       "3               free        close    narrow      brown  ...   \n",
       "4               free      crowded     broad      black  ...   \n",
       "...              ...          ...       ...        ...  ...   \n",
       "8119        attached        close     broad     yellow  ...   \n",
       "8120        attached        close     broad     yellow  ...   \n",
       "8121        attached        close     broad      brown  ...   \n",
       "8122            free        close    narrow       buff  ...   \n",
       "8123        attached        close     broad     yellow  ...   \n",
       "\n",
       "     stalk-surface-above-ring stalk-surface-below-ring stalk-color-above-ring  \\\n",
       "0                      smooth                   smooth                  white   \n",
       "1                      smooth                   smooth                  white   \n",
       "2                      smooth                   smooth                  white   \n",
       "3                      smooth                   smooth                  white   \n",
       "4                      smooth                   smooth                  white   \n",
       "...                       ...                      ...                    ...   \n",
       "8119                   smooth                   smooth                 orange   \n",
       "8120                   smooth                   smooth                 orange   \n",
       "8121                   smooth                   smooth                 orange   \n",
       "8122                   smooth                    silky                  white   \n",
       "8123                   smooth                   smooth                 orange   \n",
       "\n",
       "     stalk-color-below-ring veil-color ring-number   ring-type  \\\n",
       "0                     white      white         one     pendant   \n",
       "1                     white      white         one     pendant   \n",
       "2                     white      white         one     pendant   \n",
       "3                     white      white         one     pendant   \n",
       "4                     white      white         one  evanescent   \n",
       "...                     ...        ...         ...         ...   \n",
       "8119                 orange     orange         one     pendant   \n",
       "8120                 orange      brown         one     pendant   \n",
       "8121                 orange     orange         one     pendant   \n",
       "8122                  white      white         one  evanescent   \n",
       "8123                 orange     orange         one     pendant   \n",
       "\n",
       "     spore-print-color population  habitat  \n",
       "0                black  scattered    urban  \n",
       "1                brown   numerous  grasses  \n",
       "2                brown   numerous  meadows  \n",
       "3                black  scattered    urban  \n",
       "4                brown   abundant  grasses  \n",
       "...                ...        ...      ...  \n",
       "8119              buff  clustered   leaves  \n",
       "8120              buff    several   leaves  \n",
       "8121              buff  clustered   leaves  \n",
       "8122             white    several   leaves  \n",
       "8123            orange  clustered   leaves  \n",
       "\n",
       "[8124 rows x 22 columns]"
      ]
     },
     "execution_count": 3,
     "metadata": {},
     "output_type": "execute_result"
    }
   ],
   "source": [
    "dfmushroom['class'] = dfmushroom['class'].apply(lambda x: 'poisonous' if x == 'p' else ('non-poisonous' if x == 'e' else np.NaN))\n",
    "dfmushroom['cap-shape'] = dfmushroom['cap-shape'].apply(\n",
    "    lambda x: 'bell' if x == 'b' else (\n",
    "        'conical' if x == 'c' else (\n",
    "        'convex' if x == 'x' else (\n",
    "        'flat' if x == 'f' else (\n",
    "        'knobbed' if x == 'k' else(\n",
    "        'sunken' if x == 's' else np.NaN\n",
    "))))))\n",
    "dfmushroom['cap-surface'] = dfmushroom['cap-surface'].apply(\n",
    "    lambda x: 'fibrous' if x == 'f' else (\n",
    "    'grooves' if x == 'g' else(\n",
    "    'scaly' if x == 'y' else(\n",
    "    'smooth' if x == 's' else np.NaN)))\n",
    ")\n",
    "dfmushroom['cap-color'] = dfmushroom['cap-color'].apply(\n",
    "    lambda x: 'brown' if x == 'n' else(\n",
    "    'buff' if x == 'b' else(\n",
    "    'cinnamon' if x == 'c' else(\n",
    "    'gray' if x == 'g' else(\n",
    "    'green' if x == 'r' else(\n",
    "    'pink' if x == 'p' else(\n",
    "    'purple' if x == 'u' else(\n",
    "    'red' if x == 'e' else(\n",
    "    'white' if x == 'w' else(\n",
    "    'yellow' if x == 'y' else np.NaN\n",
    "    )))))))))\n",
    ")\n",
    "dfmushroom['bruises'] = dfmushroom['bruises'].apply(\n",
    "    lambda x: 'bruises' if x == 't' else(\n",
    "    'no' if x == 'f' else np.NaN)\n",
    ")\n",
    "dfmushroom['odor'] = dfmushroom['odor'].apply(\n",
    "    lambda x: 'almond' if x == 'a' else(\n",
    "    'anise' if x == 'l' else(\n",
    "    'creosote' if x == 'c' else(\n",
    "    'fishy' if x == 'y' else(\n",
    "    'foul' if x == 'f' else(\n",
    "    'musty' if x == 'm' else(\n",
    "    'none' if x == 'n' else(\n",
    "    'pungent' if x == 'p' else(\n",
    "    'spicy' if x == 's' else np.NaN\n",
    "    ))))))))\n",
    ")\n",
    "dfmushroom['gill-attachment'] = dfmushroom['gill-attachment'].apply(\n",
    "    lambda x: 'attached' if x == 'a' else(\n",
    "    'descending' if x == 'd' else(\n",
    "    'free' if x == 'f' else(\n",
    "    'notched' if x == 'n' else np.NaN\n",
    "    )))\n",
    ")\n",
    "dfmushroom['gill-spacing'] = dfmushroom['gill-spacing'].apply(\n",
    "    lambda x: 'close' if x == 'c' else(\n",
    "    'crowded' if x == 'w' else(\n",
    "    'distant' if x == 'd' else np.NaN))\n",
    ")\n",
    "dfmushroom['gill-size'] = dfmushroom['gill-size'].apply(\n",
    "    lambda x: 'broad' if x == 'b' else(\n",
    "    'narrow' if x == 'n' else np.NaN)\n",
    ")\n",
    "dfmushroom['gill-color'] = dfmushroom['gill-color'].apply(\n",
    "    lambda x: 'black' if x == 'k' else(\n",
    "    'brown' if x == 'n' else(\n",
    "    'buff' if x == 'b' else(\n",
    "    'chocolate' if x == 'h' else(\n",
    "    'gray' if x == 'g' else(\n",
    "    'green' if x == 'r' else(\n",
    "    'orange' if x == 'o' else(\n",
    "    'pink' if x == 'p' else(\n",
    "    'purple' if x == 'u' else(\n",
    "    'red' if x == 'e' else(\n",
    "    'white' if x == 'w' else(\n",
    "    'yellow' if x == 'y' else np.NaN\n",
    "    )))))))))))\n",
    ")\n",
    "dfmushroom['stalk-shape'] = dfmushroom['stalk-shape'].apply(\n",
    "    lambda x: 'enlarging' if x == 'e' else(\n",
    "    'tapering' if x == 't' else np.NaN)\n",
    ")\n",
    "dfmushroom['stalk-root'] = dfmushroom['stalk-root'].apply(\n",
    "    lambda x: 'bulbous' if x == 'b' else(\n",
    "    'club' if x == 'c' else(\n",
    "    'cup' if x == 'u' else(\n",
    "    'equal' if x == 'e' else(\n",
    "    'rhizomorphs' if x == 'z' else(\n",
    "    'rooted' if x == 'r' else(\n",
    "    'missing' if x == '?' else np.NaN\n",
    "    ))))))\n",
    ")\n",
    "dfmushroom['stalk-surface-above-ring'] = dfmushroom['stalk-surface-above-ring'].apply(\n",
    "    lambda x: 'fibrous' if x == 'f' else(\n",
    "    'scaly' if x == 'y' else(\n",
    "    'silky' if x == 'k' else(\n",
    "    'smooth' if x == 's' else np.NaN)))\n",
    ")\n",
    "dfmushroom['stalk-surface-below-ring'] = dfmushroom['stalk-surface-below-ring'].apply(\n",
    "    lambda x: 'fibrous' if x == 'f' else(\n",
    "    'scaly' if x == 'y' else(\n",
    "    'silky' if x == 'k' else(\n",
    "    'smooth' if x == 's' else np.NaN)))\n",
    ")\n",
    "dfmushroom['stalk-color-above-ring'] = dfmushroom['stalk-color-above-ring'].apply(\n",
    "    lambda x: 'brown' if x == 'n' else(\n",
    "    'buff' if x == 'b' else(\n",
    "    'cinnamon' if x == 'c' else(\n",
    "    'gray' if x == 'g' else(\n",
    "    'orange' if x == 'o' else(\n",
    "    'pink' if x == 'p' else(\n",
    "    'red' if x == 'e' else(\n",
    "    'white' if x == 'w' else(\n",
    "    'yellow' if x == 'y' else np.NaN\n",
    "    ))))))))\n",
    ")\n",
    "dfmushroom['stalk-color-below-ring'] = dfmushroom['stalk-color-below-ring'].apply(\n",
    "    lambda x: 'brown' if x == 'n' else(\n",
    "    'buff' if x == 'b' else(\n",
    "    'cinnamon' if x == 'c' else(\n",
    "    'gray' if x == 'g' else(\n",
    "    'orange' if x == 'o' else(\n",
    "    'pink' if x == 'p' else(\n",
    "    'red' if x == 'e' else(\n",
    "    'white' if x == 'w' else(\n",
    "    'yellow' if x == 'y' else np.NaN\n",
    "    ))))))))\n",
    ")\n",
    "dfmushroom['veil-color'] = dfmushroom['veil-color'].apply(\n",
    "    lambda x: 'brown' if x == 'n' else(\n",
    "    'orange' if x == 'o' else(\n",
    "    'white' if x == 'w' else(\n",
    "    'yellow' if x == 'y' else np.NaN)))\n",
    ")\n",
    "dfmushroom['ring-number'] = dfmushroom['ring-number'].apply(\n",
    "    lambda x: 'none' if x == 'n' else(\n",
    "    'one' if x == 'o' else(\n",
    "    'two' if x == 't' else np.NaN))\n",
    ")\n",
    "dfmushroom['ring-type'] = dfmushroom['ring-type'].apply(\n",
    "    lambda x: 'cobwebby' if x == 'c' else(\n",
    "    'evanescent' if x == 'e' else(\n",
    "    'flaring' if x == 'f' else(\n",
    "    'large' if x == 'l' else(\n",
    "    'none' if x == 'n' else(\n",
    "    'pendant' if x == 'p' else(\n",
    "    'sheathing' if x == 's' else(\n",
    "    'zone' if x == 'z' else np.NaN)))))))\n",
    ")\n",
    "dfmushroom['spore-print-color'] = dfmushroom['spore-print-color'].apply(\n",
    "    lambda x: 'black' if x == 'k' else(\n",
    "    'brown' if x == 'n' else(\n",
    "    'buff' if x == 'b' else(\n",
    "    'chocolate' if x == 'h' else(\n",
    "    'green' if x == 'r' else(\n",
    "    'orange' if x == 'o' else(\n",
    "    'purple' if x == 'u' else(\n",
    "    'white' if x == 'w' else(\n",
    "    'yellow' if x == 'y' else np.NaN\n",
    "    ))))))))\n",
    ")\n",
    "dfmushroom['population'] = dfmushroom['population'].apply(\n",
    "    lambda x: 'abundant' if x == 'a' else(\n",
    "    'clustered' if x == 'c' else(\n",
    "    'numerous' if x == 'n' else(\n",
    "    'scattered' if x == 's' else(\n",
    "    'several' if x == 'v' else(\n",
    "    'solitary' if x == 'y' else np.NaN\n",
    "    )))))\n",
    ")\n",
    "dfmushroom['habitat'] = dfmushroom['habitat'].apply(\n",
    "    lambda x: 'grasses' if x == 'g' else(\n",
    "    'leaves' if x == 'l' else(\n",
    "    'meadows' if x == 'm' else(\n",
    "    'paths' if x == 'p' else(\n",
    "    'urban' if x == 'u' else(\n",
    "    'waste' if x == 'w' else(\n",
    "    'woods' if x == 'd' else np.NaN))))))\n",
    ")\n",
    "dfmushroom"
   ]
  },
  {
   "cell_type": "markdown",
   "metadata": {},
   "source": [
    "## 4. Data Visualisation"
   ]
  },
  {
   "cell_type": "code",
   "execution_count": 4,
   "metadata": {},
   "outputs": [
    {
     "data": {
      "text/plain": [
       "class                       0\n",
       "cap-shape                   0\n",
       "cap-surface                 0\n",
       "cap-color                   0\n",
       "bruises                     0\n",
       "odor                        0\n",
       "gill-attachment             0\n",
       "gill-spacing                0\n",
       "gill-size                   0\n",
       "gill-color                  0\n",
       "stalk-shape                 0\n",
       "stalk-root                  0\n",
       "stalk-surface-above-ring    0\n",
       "stalk-surface-below-ring    0\n",
       "stalk-color-above-ring      0\n",
       "stalk-color-below-ring      0\n",
       "veil-color                  0\n",
       "ring-number                 0\n",
       "ring-type                   0\n",
       "spore-print-color           0\n",
       "population                  0\n",
       "habitat                     0\n",
       "dtype: int64"
      ]
     },
     "execution_count": 4,
     "metadata": {},
     "output_type": "execute_result"
    }
   ],
   "source": [
    "dfmushroom.isnull().sum()"
   ]
  },
  {
   "cell_type": "code",
   "execution_count": 5,
   "metadata": {},
   "outputs": [
    {
     "data": {
      "text/plain": [
       "non-poisonous    4208\n",
       "poisonous        3916\n",
       "Name: class, dtype: int64"
      ]
     },
     "execution_count": 5,
     "metadata": {},
     "output_type": "execute_result"
    }
   ],
   "source": [
    "dfmushroom['class'].value_counts()"
   ]
  },
  {
   "cell_type": "code",
   "execution_count": 6,
   "metadata": {},
   "outputs": [
    {
     "data": {
      "text/plain": [
       "<matplotlib.axes._subplots.AxesSubplot at 0x1d59253a488>"
      ]
     },
     "execution_count": 6,
     "metadata": {},
     "output_type": "execute_result"
    },
    {
     "data": {
      "image/png": "[encoded data removed]",
      "text/plain": [
       "<Figure size 432x288 with 1 Axes>"
      ]
     },
     "metadata": {
      "needs_background": "light"
     },
     "output_type": "display_data"
    }
   ],
   "source": [
    "sb.countplot(x=dfmushroom['class'])"
   ]
  },
  {
   "cell_type": "code",
   "execution_count": 7,
   "metadata": {},
   "outputs": [
    {
     "data": {
      "text/plain": [
       "convex     3656\n",
       "flat       3152\n",
       "knobbed     828\n",
       "bell        452\n",
       "sunken       32\n",
       "conical       4\n",
       "Name: cap-shape, dtype: int64"
      ]
     },
     "execution_count": 7,
     "metadata": {},
     "output_type": "execute_result"
    }
   ],
   "source": [
    "dfmushroom['cap-shape'].value_counts()"
   ]
  },
  {
   "cell_type": "code",
   "execution_count": 8,
   "metadata": {},
   "outputs": [
    {
     "data": {
      "text/plain": [
       "<matplotlib.axes._subplots.AxesSubplot at 0x1d592595288>"
      ]
     },
     "execution_count": 8,
     "metadata": {},
     "output_type": "execute_result"
    },
    {
     "data": {
      "image/png": "[encoded data removed]",
      "text/plain": [
       "<Figure size 432x288 with 1 Axes>"
      ]
     },
     "metadata": {
      "needs_background": "light"
     },
     "output_type": "display_data"
    }
   ],
   "source": [
    "sb.countplot(x=dfmushroom['cap-shape'])"
   ]
  },
  {
   "cell_type": "code",
   "execution_count": 9,
   "metadata": {},
   "outputs": [
    {
     "data": {
      "text/plain": [
       "scaly      3244\n",
       "smooth     2556\n",
       "fibrous    2320\n",
       "grooves       4\n",
       "Name: cap-surface, dtype: int64"
      ]
     },
     "execution_count": 9,
     "metadata": {},
     "output_type": "execute_result"
    }
   ],
   "source": [
    "dfmushroom['cap-surface'].value_counts()"
   ]
  },
  {
   "cell_type": "code",
   "execution_count": 10,
   "metadata": {},
   "outputs": [
    {
     "data": {
      "text/plain": [
       "<matplotlib.axes._subplots.AxesSubplot at 0x1d592a36a48>"
      ]
     },
     "execution_count": 10,
     "metadata": {},
     "output_type": "execute_result"
    },
    {
     "data": {
      "image/png": "[encoded data removed]",
      "text/plain": [
       "<Figure size 432x288 with 1 Axes>"
      ]
     },
     "metadata": {
      "needs_background": "light"
     },
     "output_type": "display_data"
    }
   ],
   "source": [
    "sb.countplot(x=dfmushroom['cap-surface'])"
   ]
  },
  {
   "cell_type": "code",
   "execution_count": 11,
   "metadata": {},
   "outputs": [
    {
     "data": {
      "text/plain": [
       "no         4748\n",
       "bruises    3376\n",
       "Name: bruises, dtype: int64"
      ]
     },
     "execution_count": 11,
     "metadata": {},
     "output_type": "execute_result"
    }
   ],
   "source": [
    "dfmushroom['bruises'].value_counts()"
   ]
  },
  {
   "cell_type": "code",
   "execution_count": 12,
   "metadata": {},
   "outputs": [
    {
     "data": {
      "text/plain": [
       "<matplotlib.axes._subplots.AxesSubplot at 0x1d592593848>"
      ]
     },
     "execution_count": 12,
     "metadata": {},
     "output_type": "execute_result"
    },
    {
     "data": {
      "image/png": "[encoded data removed]",
      "text/plain": [
       "<Figure size 432x288 with 1 Axes>"
      ]
     },
     "metadata": {
      "needs_background": "light"
     },
     "output_type": "display_data"
    }
   ],
   "source": [
    "sb.countplot(x=dfmushroom['bruises'])"
   ]
  },
  {
   "cell_type": "code",
   "execution_count": 13,
   "metadata": {},
   "outputs": [
    {
     "data": {
      "text/plain": [
       "none        3528\n",
       "foul        2160\n",
       "spicy        576\n",
       "fishy        576\n",
       "anise        400\n",
       "almond       400\n",
       "pungent      256\n",
       "creosote     192\n",
       "musty         36\n",
       "Name: odor, dtype: int64"
      ]
     },
     "execution_count": 13,
     "metadata": {},
     "output_type": "execute_result"
    }
   ],
   "source": [
    "dfmushroom['odor'].value_counts()"
   ]
  },
  {
   "cell_type": "code",
   "execution_count": 14,
   "metadata": {},
   "outputs": [
    {
     "data": {
      "text/plain": [
       "<matplotlib.axes._subplots.AxesSubplot at 0x1d592ae1a08>"
      ]
     },
     "execution_count": 14,
     "metadata": {},
     "output_type": "execute_result"
    },
    {
     "data": {
      "image/png": "[encoded data removed]",
      "text/plain": [
       "<Figure size 432x288 with 1 Axes>"
      ]
     },
     "metadata": {
      "needs_background": "light"
     },
     "output_type": "display_data"
    }
   ],
   "source": [
    "sb.countplot(x=dfmushroom['odor'])"
   ]
  },
  {
   "cell_type": "code",
   "execution_count": 15,
   "metadata": {},
   "outputs": [
    {
     "data": {
      "text/plain": [
       "free        7914\n",
       "attached     210\n",
       "Name: gill-attachment, dtype: int64"
      ]
     },
     "execution_count": 15,
     "metadata": {},
     "output_type": "execute_result"
    }
   ],
   "source": [
    "dfmushroom['gill-attachment'].value_counts()"
   ]
  },
  {
   "cell_type": "code",
   "execution_count": 16,
   "metadata": {},
   "outputs": [
    {
     "data": {
      "text/plain": [
       "<matplotlib.axes._subplots.AxesSubplot at 0x1d592b73188>"
      ]
     },
     "execution_count": 16,
     "metadata": {},
     "output_type": "execute_result"
    },
    {
     "data": {
      "image/png": "[encoded data removed]",
      "text/plain": [
       "<Figure size 432x288 with 1 Axes>"
      ]
     },
     "metadata": {
      "needs_background": "light"
     },
     "output_type": "display_data"
    }
   ],
   "source": [
    "sb.countplot(x=dfmushroom['gill-attachment'])"
   ]
  },
  {
   "cell_type": "code",
   "execution_count": 17,
   "metadata": {},
   "outputs": [
    {
     "data": {
      "text/plain": [
       "close      6812\n",
       "crowded    1312\n",
       "Name: gill-spacing, dtype: int64"
      ]
     },
     "execution_count": 17,
     "metadata": {},
     "output_type": "execute_result"
    }
   ],
   "source": [
    "dfmushroom['gill-spacing'].value_counts()"
   ]
  },
  {
   "cell_type": "code",
   "execution_count": 18,
   "metadata": {},
   "outputs": [
    {
     "data": {
      "text/plain": [
       "<matplotlib.axes._subplots.AxesSubplot at 0x1d592bd74c8>"
      ]
     },
     "execution_count": 18,
     "metadata": {},
     "output_type": "execute_result"
    },
    {
     "data": {
      "image/png": "[encoded data removed]",
      "text/plain": [
       "<Figure size 432x288 with 1 Axes>"
      ]
     },
     "metadata": {
      "needs_background": "light"
     },
     "output_type": "display_data"
    }
   ],
   "source": [
    "sb.countplot(x=dfmushroom['gill-spacing'])"
   ]
  },
  {
   "cell_type": "code",
   "execution_count": 19,
   "metadata": {},
   "outputs": [
    {
     "data": {
      "text/plain": [
       "broad     5612\n",
       "narrow    2512\n",
       "Name: gill-size, dtype: int64"
      ]
     },
     "execution_count": 19,
     "metadata": {},
     "output_type": "execute_result"
    }
   ],
   "source": [
    "dfmushroom['gill-size'].value_counts()"
   ]
  },
  {
   "cell_type": "code",
   "execution_count": 20,
   "metadata": {},
   "outputs": [
    {
     "data": {
      "text/plain": [
       "<matplotlib.axes._subplots.AxesSubplot at 0x1d592c2f8c8>"
      ]
     },
     "execution_count": 20,
     "metadata": {},
     "output_type": "execute_result"
    },
    {
     "data": {
      "image/png": "[encoded data removed]",
      "text/plain": [
       "<Figure size 432x288 with 1 Axes>"
      ]
     },
     "metadata": {
      "needs_background": "light"
     },
     "output_type": "display_data"
    }
   ],
   "source": [
    "sb.countplot(x=dfmushroom['gill-size'])"
   ]
  },
  {
   "cell_type": "code",
   "execution_count": 21,
   "metadata": {},
   "outputs": [
    {
     "data": {
      "text/plain": [
       "buff         1728\n",
       "pink         1492\n",
       "white        1202\n",
       "brown        1048\n",
       "gray          752\n",
       "chocolate     732\n",
       "purple        492\n",
       "black         408\n",
       "red            96\n",
       "yellow         86\n",
       "orange         64\n",
       "green          24\n",
       "Name: gill-color, dtype: int64"
      ]
     },
     "execution_count": 21,
     "metadata": {},
     "output_type": "execute_result"
    }
   ],
   "source": [
    "dfmushroom['gill-color'].value_counts()"
   ]
  },
  {
   "cell_type": "code",
   "execution_count": 22,
   "metadata": {},
   "outputs": [
    {
     "data": {
      "text/plain": [
       "<matplotlib.axes._subplots.AxesSubplot at 0x1d592c89ac8>"
      ]
     },
     "execution_count": 22,
     "metadata": {},
     "output_type": "execute_result"
    },
    {
     "data": {
      "image/png": "[encoded data removed]",
      "text/plain": [
       "<Figure size 432x288 with 1 Axes>"
      ]
     },
     "metadata": {
      "needs_background": "light"
     },
     "output_type": "display_data"
    }
   ],
   "source": [
    "sb.countplot(x=dfmushroom['gill-color'])"
   ]
  },
  {
   "cell_type": "code",
   "execution_count": 23,
   "metadata": {},
   "outputs": [
    {
     "data": {
      "text/plain": [
       "tapering     4608\n",
       "enlarging    3516\n",
       "Name: stalk-shape, dtype: int64"
      ]
     },
     "execution_count": 23,
     "metadata": {},
     "output_type": "execute_result"
    }
   ],
   "source": [
    "dfmushroom['stalk-shape'].value_counts()"
   ]
  },
  {
   "cell_type": "code",
   "execution_count": 24,
   "metadata": {},
   "outputs": [
    {
     "data": {
      "text/plain": [
       "<matplotlib.axes._subplots.AxesSubplot at 0x1d592d11848>"
      ]
     },
     "execution_count": 24,
     "metadata": {},
     "output_type": "execute_result"
    },
    {
     "data": {
      "image/png": "[encoded data removed]",
      "text/plain": [
       "<Figure size 432x288 with 1 Axes>"
      ]
     },
     "metadata": {
      "needs_background": "light"
     },
     "output_type": "display_data"
    }
   ],
   "source": [
    "sb.countplot(x=dfmushroom['stalk-shape'])"
   ]
  },
  {
   "cell_type": "code",
   "execution_count": 25,
   "metadata": {},
   "outputs": [
    {
     "data": {
      "text/plain": [
       "bulbous    3776\n",
       "missing    2480\n",
       "equal      1120\n",
       "club        556\n",
       "rooted      192\n",
       "Name: stalk-root, dtype: int64"
      ]
     },
     "execution_count": 25,
     "metadata": {},
     "output_type": "execute_result"
    }
   ],
   "source": [
    "dfmushroom['stalk-root'].value_counts()"
   ]
  },
  {
   "cell_type": "code",
   "execution_count": 26,
   "metadata": {},
   "outputs": [
    {
     "data": {
      "text/plain": [
       "<matplotlib.axes._subplots.AxesSubplot at 0x1d592d69cc8>"
      ]
     },
     "execution_count": 26,
     "metadata": {},
     "output_type": "execute_result"
    },
    {
     "data": {
      "image/png": "[encoded data removed]",
      "text/plain": [
       "<Figure size 432x288 with 1 Axes>"
      ]
     },
     "metadata": {
      "needs_background": "light"
     },
     "output_type": "display_data"
    }
   ],
   "source": [
    "sb.countplot(x=dfmushroom['stalk-root'])"
   ]
  },
  {
   "cell_type": "code",
   "execution_count": 27,
   "metadata": {},
   "outputs": [
    {
     "data": {
      "text/plain": [
       "smooth     5176\n",
       "silky      2372\n",
       "fibrous     552\n",
       "scaly        24\n",
       "Name: stalk-surface-above-ring, dtype: int64"
      ]
     },
     "execution_count": 27,
     "metadata": {},
     "output_type": "execute_result"
    }
   ],
   "source": [
    "dfmushroom['stalk-surface-above-ring'].value_counts()"
   ]
  },
  {
   "cell_type": "code",
   "execution_count": 28,
   "metadata": {},
   "outputs": [
    {
     "data": {
      "text/plain": [
       "<matplotlib.axes._subplots.AxesSubplot at 0x1d592dc6308>"
      ]
     },
     "execution_count": 28,
     "metadata": {},
     "output_type": "execute_result"
    },
    {
     "data": {
      "image/png": "[encoded data removed]",
      "text/plain": [
       "<Figure size 432x288 with 1 Axes>"
      ]
     },
     "metadata": {
      "needs_background": "light"
     },
     "output_type": "display_data"
    }
   ],
   "source": [
    "sb.countplot(x=dfmushroom['stalk-surface-above-ring'])"
   ]
  },
  {
   "cell_type": "code",
   "execution_count": 29,
   "metadata": {},
   "outputs": [
    {
     "data": {
      "text/plain": [
       "smooth     4936\n",
       "silky      2304\n",
       "fibrous     600\n",
       "scaly       284\n",
       "Name: stalk-surface-below-ring, dtype: int64"
      ]
     },
     "execution_count": 29,
     "metadata": {},
     "output_type": "execute_result"
    }
   ],
   "source": [
    "dfmushroom['stalk-surface-below-ring'].value_counts()"
   ]
  },
  {
   "cell_type": "code",
   "execution_count": 30,
   "metadata": {},
   "outputs": [
    {
     "data": {
      "text/plain": [
       "<matplotlib.axes._subplots.AxesSubplot at 0x1d592e4b688>"
      ]
     },
     "execution_count": 30,
     "metadata": {},
     "output_type": "execute_result"
    },
    {
     "data": {
      "image/png": "[encoded data removed]",
      "text/plain": [
       "<Figure size 432x288 with 1 Axes>"
      ]
     },
     "metadata": {
      "needs_background": "light"
     },
     "output_type": "display_data"
    }
   ],
   "source": [
    "sb.countplot(x=dfmushroom['stalk-surface-below-ring'])"
   ]
  },
  {
   "cell_type": "code",
   "execution_count": 31,
   "metadata": {},
   "outputs": [
    {
     "data": {
      "text/plain": [
       "white       4464\n",
       "pink        1872\n",
       "gray         576\n",
       "brown        448\n",
       "buff         432\n",
       "orange       192\n",
       "red           96\n",
       "cinnamon      36\n",
       "yellow         8\n",
       "Name: stalk-color-above-ring, dtype: int64"
      ]
     },
     "execution_count": 31,
     "metadata": {},
     "output_type": "execute_result"
    }
   ],
   "source": [
    "dfmushroom['stalk-color-above-ring'].value_counts()"
   ]
  },
  {
   "cell_type": "code",
   "execution_count": 32,
   "metadata": {},
   "outputs": [
    {
     "data": {
      "text/plain": [
       "<matplotlib.axes._subplots.AxesSubplot at 0x1d591dbaf08>"
      ]
     },
     "execution_count": 32,
     "metadata": {},
     "output_type": "execute_result"
    },
    {
     "data": {
      "image/png": "[encoded data removed]",
      "text/plain": [
       "<Figure size 432x288 with 1 Axes>"
      ]
     },
     "metadata": {
      "needs_background": "light"
     },
     "output_type": "display_data"
    }
   ],
   "source": [
    "sb.countplot(x=dfmushroom['stalk-color-above-ring'])"
   ]
  },
  {
   "cell_type": "code",
   "execution_count": 33,
   "metadata": {},
   "outputs": [
    {
     "data": {
      "text/plain": [
       "white       4384\n",
       "pink        1872\n",
       "gray         576\n",
       "brown        512\n",
       "buff         432\n",
       "orange       192\n",
       "red           96\n",
       "cinnamon      36\n",
       "yellow        24\n",
       "Name: stalk-color-below-ring, dtype: int64"
      ]
     },
     "execution_count": 33,
     "metadata": {},
     "output_type": "execute_result"
    }
   ],
   "source": [
    "dfmushroom['stalk-color-below-ring'].value_counts()"
   ]
  },
  {
   "cell_type": "code",
   "execution_count": 34,
   "metadata": {},
   "outputs": [
    {
     "data": {
      "text/plain": [
       "<matplotlib.axes._subplots.AxesSubplot at 0x1d592f25d88>"
      ]
     },
     "execution_count": 34,
     "metadata": {},
     "output_type": "execute_result"
    },
    {
     "data": {
      "image/png": "[encoded data removed]",
      "text/plain": [
       "<Figure size 432x288 with 1 Axes>"
      ]
     },
     "metadata": {
      "needs_background": "light"
     },
     "output_type": "display_data"
    }
   ],
   "source": [
    "sb.countplot(x=dfmushroom['stalk-color-below-ring'])"
   ]
  },
  {
   "cell_type": "code",
   "execution_count": 35,
   "metadata": {},
   "outputs": [
    {
     "data": {
      "text/plain": [
       "white     7924\n",
       "brown       96\n",
       "orange      96\n",
       "yellow       8\n",
       "Name: veil-color, dtype: int64"
      ]
     },
     "execution_count": 35,
     "metadata": {},
     "output_type": "execute_result"
    }
   ],
   "source": [
    "dfmushroom['veil-color'].value_counts()"
   ]
  },
  {
   "cell_type": "code",
   "execution_count": 36,
   "metadata": {},
   "outputs": [
    {
     "data": {
      "text/plain": [
       "<matplotlib.axes._subplots.AxesSubplot at 0x1d592f978c8>"
      ]
     },
     "execution_count": 36,
     "metadata": {},
     "output_type": "execute_result"
    },
    {
     "data": {
      "image/png": "[encoded data removed]",
      "text/plain": [
       "<Figure size 432x288 with 1 Axes>"
      ]
     },
     "metadata": {
      "needs_background": "light"
     },
     "output_type": "display_data"
    }
   ],
   "source": [
    "sb.countplot(x=dfmushroom['veil-color'])"
   ]
  },
  {
   "cell_type": "code",
   "execution_count": 37,
   "metadata": {},
   "outputs": [
    {
     "data": {
      "text/plain": [
       "one     7488\n",
       "two      600\n",
       "none      36\n",
       "Name: ring-number, dtype: int64"
      ]
     },
     "execution_count": 37,
     "metadata": {},
     "output_type": "execute_result"
    }
   ],
   "source": [
    "dfmushroom['ring-number'].value_counts()"
   ]
  },
  {
   "cell_type": "code",
   "execution_count": 38,
   "metadata": {},
   "outputs": [
    {
     "data": {
      "text/plain": [
       "<matplotlib.axes._subplots.AxesSubplot at 0x1d593fd5bc8>"
      ]
     },
     "execution_count": 38,
     "metadata": {},
     "output_type": "execute_result"
    },
    {
     "data": {
      "image/png": "[encoded data removed]",
      "text/plain": [
       "<Figure size 432x288 with 1 Axes>"
      ]
     },
     "metadata": {
      "needs_background": "light"
     },
     "output_type": "display_data"
    }
   ],
   "source": [
    "sb.countplot(x=dfmushroom['ring-number'])"
   ]
  },
  {
   "cell_type": "code",
   "execution_count": 39,
   "metadata": {},
   "outputs": [
    {
     "data": {
      "text/plain": [
       "pendant       3968\n",
       "evanescent    2776\n",
       "large         1296\n",
       "flaring         48\n",
       "none            36\n",
       "Name: ring-type, dtype: int64"
      ]
     },
     "execution_count": 39,
     "metadata": {},
     "output_type": "execute_result"
    }
   ],
   "source": [
    "dfmushroom['ring-type'].value_counts()"
   ]
  },
  {
   "cell_type": "code",
   "execution_count": 40,
   "metadata": {},
   "outputs": [
    {
     "data": {
      "text/plain": [
       "<matplotlib.axes._subplots.AxesSubplot at 0x1d59403d788>"
      ]
     },
     "execution_count": 40,
     "metadata": {},
     "output_type": "execute_result"
    },
    {
     "data": {
      "image/png": "[encoded data removed]",
      "text/plain": [
       "<Figure size 432x288 with 1 Axes>"
      ]
     },
     "metadata": {
      "needs_background": "light"
     },
     "output_type": "display_data"
    }
   ],
   "source": [
    "sb.countplot(x=dfmushroom['ring-type'])"
   ]
  },
  {
   "cell_type": "code",
   "execution_count": 41,
   "metadata": {},
   "outputs": [
    {
     "data": {
      "text/plain": [
       "white        2388\n",
       "brown        1968\n",
       "black        1872\n",
       "chocolate    1632\n",
       "green          72\n",
       "yellow         48\n",
       "buff           48\n",
       "purple         48\n",
       "orange         48\n",
       "Name: spore-print-color, dtype: int64"
      ]
     },
     "execution_count": 41,
     "metadata": {},
     "output_type": "execute_result"
    }
   ],
   "source": [
    "dfmushroom['spore-print-color'].value_counts()"
   ]
  },
  {
   "cell_type": "code",
   "execution_count": 42,
   "metadata": {},
   "outputs": [
    {
     "data": {
      "text/plain": [
       "<matplotlib.axes._subplots.AxesSubplot at 0x1d590b10908>"
      ]
     },
     "execution_count": 42,
     "metadata": {},
     "output_type": "execute_result"
    },
    {
     "data": {
      "image/png": "[encoded data removed]",
      "text/plain": [
       "<Figure size 432x288 with 1 Axes>"
      ]
     },
     "metadata": {
      "needs_background": "light"
     },
     "output_type": "display_data"
    }
   ],
   "source": [
    "sb.countplot(x=dfmushroom['spore-print-color'])"
   ]
  },
  {
   "cell_type": "code",
   "execution_count": 43,
   "metadata": {},
   "outputs": [
    {
     "data": {
      "text/plain": [
       "several      4040\n",
       "solitary     1712\n",
       "scattered    1248\n",
       "numerous      400\n",
       "abundant      384\n",
       "clustered     340\n",
       "Name: population, dtype: int64"
      ]
     },
     "execution_count": 43,
     "metadata": {},
     "output_type": "execute_result"
    }
   ],
   "source": [
    "dfmushroom['population'].value_counts()"
   ]
  },
  {
   "cell_type": "code",
   "execution_count": 44,
   "metadata": {},
   "outputs": [
    {
     "data": {
      "text/plain": [
       "<matplotlib.axes._subplots.AxesSubplot at 0x1d59412a788>"
      ]
     },
     "execution_count": 44,
     "metadata": {},
     "output_type": "execute_result"
    },
    {
     "data": {
      "image/png": "[encoded data removed]",
      "text/plain": [
       "<Figure size 432x288 with 1 Axes>"
      ]
     },
     "metadata": {
      "needs_background": "light"
     },
     "output_type": "display_data"
    }
   ],
   "source": [
    "sb.countplot(x=dfmushroom['population'])"
   ]
  },
  {
   "cell_type": "code",
   "execution_count": 45,
   "metadata": {},
   "outputs": [
    {
     "data": {
      "text/plain": [
       "woods      3148\n",
       "grasses    2148\n",
       "paths      1144\n",
       "leaves      832\n",
       "urban       368\n",
       "meadows     292\n",
       "waste       192\n",
       "Name: habitat, dtype: int64"
      ]
     },
     "execution_count": 45,
     "metadata": {},
     "output_type": "execute_result"
    }
   ],
   "source": [
    "dfmushroom['habitat'].value_counts()"
   ]
  },
  {
   "cell_type": "code",
   "execution_count": 46,
   "metadata": {},
   "outputs": [
    {
     "data": {
      "text/plain": [
       "<matplotlib.axes._subplots.AxesSubplot at 0x1d5941a1748>"
      ]
     },
     "execution_count": 46,
     "metadata": {},
     "output_type": "execute_result"
    },
    {
     "data": {
      "image/png": "[encoded data removed]",
      "text/plain": [
       "<Figure size 432x288 with 1 Axes>"
      ]
     },
     "metadata": {
      "needs_background": "light"
     },
     "output_type": "display_data"
    }
   ],
   "source": [
    "sb.countplot(x=dfmushroom['habitat'])"
   ]
  },
  {
   "cell_type": "markdown",
   "metadata": {},
   "source": [
    "## 5. Labeling Data using Label Encoder"
   ]
  },
  {
   "cell_type": "code",
   "execution_count": 47,
   "metadata": {},
   "outputs": [
    {
     "data": {
      "text/html": [
       "<div>\n",
       "<style scoped>\n",
       "    .dataframe tbody tr th:only-of-type {\n",
       "        vertical-align: middle;\n",
       "    }\n",
       "\n",
       "    .dataframe tbody tr th {\n",
       "        vertical-align: top;\n",
       "    }\n",
       "\n",
       "    .dataframe thead th {\n",
       "        text-align: right;\n",
       "    }\n",
       "</style>\n",
       "<table border=\"1\" class=\"dataframe\">\n",
       "  <thead>\n",
       "    <tr style=\"text-align: right;\">\n",
       "      <th></th>\n",
       "      <th>class</th>\n",
       "      <th>cap-shape</th>\n",
       "      <th>cap-surface</th>\n",
       "      <th>cap-color</th>\n",
       "      <th>bruises</th>\n",
       "      <th>odor</th>\n",
       "      <th>gill-attachment</th>\n",
       "      <th>gill-spacing</th>\n",
       "      <th>gill-size</th>\n",
       "      <th>gill-color</th>\n",
       "      <th>...</th>\n",
       "      <th>stalk-surface-above-ring</th>\n",
       "      <th>stalk-surface-below-ring</th>\n",
       "      <th>stalk-color-above-ring</th>\n",
       "      <th>stalk-color-below-ring</th>\n",
       "      <th>veil-color</th>\n",
       "      <th>ring-number</th>\n",
       "      <th>ring-type</th>\n",
       "      <th>spore-print-color</th>\n",
       "      <th>population</th>\n",
       "      <th>habitat</th>\n",
       "    </tr>\n",
       "  </thead>\n",
       "  <tbody>\n",
       "    <tr>\n",
       "      <td>0</td>\n",
       "      <td>1</td>\n",
       "      <td>2</td>\n",
       "      <td>3</td>\n",
       "      <td>0</td>\n",
       "      <td>0</td>\n",
       "      <td>7</td>\n",
       "      <td>1</td>\n",
       "      <td>0</td>\n",
       "      <td>1</td>\n",
       "      <td>0</td>\n",
       "      <td>...</td>\n",
       "      <td>3</td>\n",
       "      <td>3</td>\n",
       "      <td>7</td>\n",
       "      <td>7</td>\n",
       "      <td>2</td>\n",
       "      <td>1</td>\n",
       "      <td>4</td>\n",
       "      <td>0</td>\n",
       "      <td>3</td>\n",
       "      <td>4</td>\n",
       "    </tr>\n",
       "    <tr>\n",
       "      <td>1</td>\n",
       "      <td>0</td>\n",
       "      <td>2</td>\n",
       "      <td>3</td>\n",
       "      <td>9</td>\n",
       "      <td>0</td>\n",
       "      <td>0</td>\n",
       "      <td>1</td>\n",
       "      <td>0</td>\n",
       "      <td>0</td>\n",
       "      <td>0</td>\n",
       "      <td>...</td>\n",
       "      <td>3</td>\n",
       "      <td>3</td>\n",
       "      <td>7</td>\n",
       "      <td>7</td>\n",
       "      <td>2</td>\n",
       "      <td>1</td>\n",
       "      <td>4</td>\n",
       "      <td>1</td>\n",
       "      <td>2</td>\n",
       "      <td>0</td>\n",
       "    </tr>\n",
       "    <tr>\n",
       "      <td>2</td>\n",
       "      <td>0</td>\n",
       "      <td>0</td>\n",
       "      <td>3</td>\n",
       "      <td>8</td>\n",
       "      <td>0</td>\n",
       "      <td>1</td>\n",
       "      <td>1</td>\n",
       "      <td>0</td>\n",
       "      <td>0</td>\n",
       "      <td>1</td>\n",
       "      <td>...</td>\n",
       "      <td>3</td>\n",
       "      <td>3</td>\n",
       "      <td>7</td>\n",
       "      <td>7</td>\n",
       "      <td>2</td>\n",
       "      <td>1</td>\n",
       "      <td>4</td>\n",
       "      <td>1</td>\n",
       "      <td>2</td>\n",
       "      <td>2</td>\n",
       "    </tr>\n",
       "    <tr>\n",
       "      <td>3</td>\n",
       "      <td>1</td>\n",
       "      <td>2</td>\n",
       "      <td>2</td>\n",
       "      <td>8</td>\n",
       "      <td>0</td>\n",
       "      <td>7</td>\n",
       "      <td>1</td>\n",
       "      <td>0</td>\n",
       "      <td>1</td>\n",
       "      <td>1</td>\n",
       "      <td>...</td>\n",
       "      <td>3</td>\n",
       "      <td>3</td>\n",
       "      <td>7</td>\n",
       "      <td>7</td>\n",
       "      <td>2</td>\n",
       "      <td>1</td>\n",
       "      <td>4</td>\n",
       "      <td>0</td>\n",
       "      <td>3</td>\n",
       "      <td>4</td>\n",
       "    </tr>\n",
       "    <tr>\n",
       "      <td>4</td>\n",
       "      <td>0</td>\n",
       "      <td>2</td>\n",
       "      <td>3</td>\n",
       "      <td>3</td>\n",
       "      <td>1</td>\n",
       "      <td>6</td>\n",
       "      <td>1</td>\n",
       "      <td>1</td>\n",
       "      <td>0</td>\n",
       "      <td>0</td>\n",
       "      <td>...</td>\n",
       "      <td>3</td>\n",
       "      <td>3</td>\n",
       "      <td>7</td>\n",
       "      <td>7</td>\n",
       "      <td>2</td>\n",
       "      <td>1</td>\n",
       "      <td>0</td>\n",
       "      <td>1</td>\n",
       "      <td>0</td>\n",
       "      <td>0</td>\n",
       "    </tr>\n",
       "  </tbody>\n",
       "</table>\n",
       "<p>5 rows × 22 columns</p>\n",
       "</div>"
      ],
      "text/plain": [
       "   class  cap-shape  cap-surface  cap-color  bruises  odor  gill-attachment  \\\n",
       "0      1          2            3          0        0     7                1   \n",
       "1      0          2            3          9        0     0                1   \n",
       "2      0          0            3          8        0     1                1   \n",
       "3      1          2            2          8        0     7                1   \n",
       "4      0          2            3          3        1     6                1   \n",
       "\n",
       "   gill-spacing  gill-size  gill-color  ...  stalk-surface-above-ring  \\\n",
       "0             0          1           0  ...                         3   \n",
       "1             0          0           0  ...                         3   \n",
       "2             0          0           1  ...                         3   \n",
       "3             0          1           1  ...                         3   \n",
       "4             1          0           0  ...                         3   \n",
       "\n",
       "   stalk-surface-below-ring  stalk-color-above-ring  stalk-color-below-ring  \\\n",
       "0                         3                       7                       7   \n",
       "1                         3                       7                       7   \n",
       "2                         3                       7                       7   \n",
       "3                         3                       7                       7   \n",
       "4                         3                       7                       7   \n",
       "\n",
       "   veil-color  ring-number  ring-type  spore-print-color  population  habitat  \n",
       "0           2            1          4                  0           3        4  \n",
       "1           2            1          4                  1           2        0  \n",
       "2           2            1          4                  1           2        2  \n",
       "3           2            1          4                  0           3        4  \n",
       "4           2            1          0                  1           0        0  \n",
       "\n",
       "[5 rows x 22 columns]"
      ]
     },
     "execution_count": 47,
     "metadata": {},
     "output_type": "execute_result"
    }
   ],
   "source": [
    "labelencoder=LabelEncoder()\n",
    "for col in dfmushroom.columns:\n",
    "    dfmushroom[col] = labelencoder.fit_transform(dfmushroom[col])\n",
    "dfmushroom.head()"
   ]
  },
  {
   "cell_type": "markdown",
   "metadata": {},
   "source": [
    "## 6. Correlation Matrix"
   ]
  },
  {
   "cell_type": "code",
   "execution_count": 48,
   "metadata": {},
   "outputs": [
    {
     "data": {
      "text/html": [
       "<div>\n",
       "<style scoped>\n",
       "    .dataframe tbody tr th:only-of-type {\n",
       "        vertical-align: middle;\n",
       "    }\n",
       "\n",
       "    .dataframe tbody tr th {\n",
       "        vertical-align: top;\n",
       "    }\n",
       "\n",
       "    .dataframe thead th {\n",
       "        text-align: right;\n",
       "    }\n",
       "</style>\n",
       "<table border=\"1\" class=\"dataframe\">\n",
       "  <thead>\n",
       "    <tr style=\"text-align: right;\">\n",
       "      <th></th>\n",
       "      <th>class</th>\n",
       "      <th>cap-shape</th>\n",
       "      <th>cap-surface</th>\n",
       "      <th>cap-color</th>\n",
       "      <th>bruises</th>\n",
       "      <th>odor</th>\n",
       "      <th>gill-attachment</th>\n",
       "      <th>gill-spacing</th>\n",
       "      <th>gill-size</th>\n",
       "      <th>gill-color</th>\n",
       "      <th>...</th>\n",
       "      <th>stalk-surface-above-ring</th>\n",
       "      <th>stalk-surface-below-ring</th>\n",
       "      <th>stalk-color-above-ring</th>\n",
       "      <th>stalk-color-below-ring</th>\n",
       "      <th>veil-color</th>\n",
       "      <th>ring-number</th>\n",
       "      <th>ring-type</th>\n",
       "      <th>spore-print-color</th>\n",
       "      <th>population</th>\n",
       "      <th>habitat</th>\n",
       "    </tr>\n",
       "  </thead>\n",
       "  <tbody>\n",
       "    <tr>\n",
       "      <td>class</td>\n",
       "      <td>1.000000</td>\n",
       "      <td>0.199488</td>\n",
       "      <td>0.186806</td>\n",
       "      <td>0.058452</td>\n",
       "      <td>0.501530</td>\n",
       "      <td>-0.086800</td>\n",
       "      <td>0.129200</td>\n",
       "      <td>-0.348387</td>\n",
       "      <td>0.540024</td>\n",
       "      <td>-0.270247</td>\n",
       "      <td>...</td>\n",
       "      <td>-0.215088</td>\n",
       "      <td>-0.139254</td>\n",
       "      <td>-0.263928</td>\n",
       "      <td>-0.245231</td>\n",
       "      <td>0.145142</td>\n",
       "      <td>-0.214366</td>\n",
       "      <td>-0.411771</td>\n",
       "      <td>0.519438</td>\n",
       "      <td>0.298686</td>\n",
       "      <td>-0.022363</td>\n",
       "    </tr>\n",
       "    <tr>\n",
       "      <td>cap-shape</td>\n",
       "      <td>0.199488</td>\n",
       "      <td>1.000000</td>\n",
       "      <td>-0.007059</td>\n",
       "      <td>-0.176574</td>\n",
       "      <td>0.199703</td>\n",
       "      <td>0.251055</td>\n",
       "      <td>0.032099</td>\n",
       "      <td>-0.061368</td>\n",
       "      <td>0.259001</td>\n",
       "      <td>-0.069180</td>\n",
       "      <td>...</td>\n",
       "      <td>-0.070942</td>\n",
       "      <td>-0.068732</td>\n",
       "      <td>-0.059667</td>\n",
       "      <td>-0.067470</td>\n",
       "      <td>0.036995</td>\n",
       "      <td>-0.069245</td>\n",
       "      <td>-0.304673</td>\n",
       "      <td>0.251207</td>\n",
       "      <td>0.129000</td>\n",
       "      <td>0.134210</td>\n",
       "    </tr>\n",
       "    <tr>\n",
       "      <td>cap-surface</td>\n",
       "      <td>0.186806</td>\n",
       "      <td>-0.007059</td>\n",
       "      <td>1.000000</td>\n",
       "      <td>-0.022923</td>\n",
       "      <td>0.019547</td>\n",
       "      <td>-0.105749</td>\n",
       "      <td>-0.161757</td>\n",
       "      <td>-0.096076</td>\n",
       "      <td>0.274933</td>\n",
       "      <td>-0.122924</td>\n",
       "      <td>...</td>\n",
       "      <td>0.015424</td>\n",
       "      <td>-0.000094</td>\n",
       "      <td>0.250617</td>\n",
       "      <td>0.260090</td>\n",
       "      <td>-0.154804</td>\n",
       "      <td>0.060429</td>\n",
       "      <td>-0.171361</td>\n",
       "      <td>0.310188</td>\n",
       "      <td>-0.188979</td>\n",
       "      <td>-0.191609</td>\n",
       "    </tr>\n",
       "    <tr>\n",
       "      <td>cap-color</td>\n",
       "      <td>0.058452</td>\n",
       "      <td>-0.176574</td>\n",
       "      <td>-0.022923</td>\n",
       "      <td>1.000000</td>\n",
       "      <td>-0.034513</td>\n",
       "      <td>-0.318907</td>\n",
       "      <td>0.192322</td>\n",
       "      <td>0.023269</td>\n",
       "      <td>-0.091914</td>\n",
       "      <td>-0.020306</td>\n",
       "      <td>...</td>\n",
       "      <td>-0.017087</td>\n",
       "      <td>-0.026967</td>\n",
       "      <td>-0.044439</td>\n",
       "      <td>-0.025502</td>\n",
       "      <td>0.188903</td>\n",
       "      <td>0.010226</td>\n",
       "      <td>0.088491</td>\n",
       "      <td>-0.079787</td>\n",
       "      <td>-0.017712</td>\n",
       "      <td>-0.089724</td>\n",
       "    </tr>\n",
       "    <tr>\n",
       "      <td>bruises</td>\n",
       "      <td>0.501530</td>\n",
       "      <td>0.199703</td>\n",
       "      <td>0.019547</td>\n",
       "      <td>-0.034513</td>\n",
       "      <td>1.000000</td>\n",
       "      <td>0.079235</td>\n",
       "      <td>-0.137359</td>\n",
       "      <td>0.299473</td>\n",
       "      <td>0.369596</td>\n",
       "      <td>-0.348658</td>\n",
       "      <td>...</td>\n",
       "      <td>-0.386893</td>\n",
       "      <td>-0.323013</td>\n",
       "      <td>-0.197177</td>\n",
       "      <td>-0.213054</td>\n",
       "      <td>-0.119770</td>\n",
       "      <td>-0.056788</td>\n",
       "      <td>-0.692973</td>\n",
       "      <td>0.519982</td>\n",
       "      <td>-0.088137</td>\n",
       "      <td>-0.305354</td>\n",
       "    </tr>\n",
       "    <tr>\n",
       "      <td>odor</td>\n",
       "      <td>-0.086800</td>\n",
       "      <td>0.251055</td>\n",
       "      <td>-0.105749</td>\n",
       "      <td>-0.318907</td>\n",
       "      <td>0.079235</td>\n",
       "      <td>1.000000</td>\n",
       "      <td>-0.092471</td>\n",
       "      <td>0.114297</td>\n",
       "      <td>0.037037</td>\n",
       "      <td>0.074913</td>\n",
       "      <td>...</td>\n",
       "      <td>-0.044410</td>\n",
       "      <td>0.060100</td>\n",
       "      <td>-0.012270</td>\n",
       "      <td>-0.026790</td>\n",
       "      <td>-0.086768</td>\n",
       "      <td>0.164708</td>\n",
       "      <td>-0.161269</td>\n",
       "      <td>0.093370</td>\n",
       "      <td>0.003753</td>\n",
       "      <td>0.126054</td>\n",
       "    </tr>\n",
       "    <tr>\n",
       "      <td>gill-attachment</td>\n",
       "      <td>0.129200</td>\n",
       "      <td>0.032099</td>\n",
       "      <td>-0.161757</td>\n",
       "      <td>0.192322</td>\n",
       "      <td>-0.137359</td>\n",
       "      <td>-0.092471</td>\n",
       "      <td>1.000000</td>\n",
       "      <td>0.071489</td>\n",
       "      <td>0.108984</td>\n",
       "      <td>-0.080726</td>\n",
       "      <td>...</td>\n",
       "      <td>-0.083189</td>\n",
       "      <td>-0.075554</td>\n",
       "      <td>0.122946</td>\n",
       "      <td>0.116158</td>\n",
       "      <td>0.897518</td>\n",
       "      <td>0.093236</td>\n",
       "      <td>-0.146689</td>\n",
       "      <td>-0.068909</td>\n",
       "      <td>0.165575</td>\n",
       "      <td>0.115387</td>\n",
       "    </tr>\n",
       "    <tr>\n",
       "      <td>gill-spacing</td>\n",
       "      <td>-0.348387</td>\n",
       "      <td>-0.061368</td>\n",
       "      <td>-0.096076</td>\n",
       "      <td>0.023269</td>\n",
       "      <td>0.299473</td>\n",
       "      <td>0.114297</td>\n",
       "      <td>0.071489</td>\n",
       "      <td>1.000000</td>\n",
       "      <td>-0.108333</td>\n",
       "      <td>-0.037735</td>\n",
       "      <td>...</td>\n",
       "      <td>-0.298008</td>\n",
       "      <td>-0.241945</td>\n",
       "      <td>0.319259</td>\n",
       "      <td>0.271301</td>\n",
       "      <td>0.073363</td>\n",
       "      <td>0.243014</td>\n",
       "      <td>-0.195897</td>\n",
       "      <td>-0.092992</td>\n",
       "      <td>-0.529253</td>\n",
       "      <td>-0.397884</td>\n",
       "    </tr>\n",
       "    <tr>\n",
       "      <td>gill-size</td>\n",
       "      <td>0.540024</td>\n",
       "      <td>0.259001</td>\n",
       "      <td>0.274933</td>\n",
       "      <td>-0.091914</td>\n",
       "      <td>0.369596</td>\n",
       "      <td>0.037037</td>\n",
       "      <td>0.108984</td>\n",
       "      <td>-0.108333</td>\n",
       "      <td>1.000000</td>\n",
       "      <td>-0.330580</td>\n",
       "      <td>...</td>\n",
       "      <td>0.090346</td>\n",
       "      <td>0.087102</td>\n",
       "      <td>0.271111</td>\n",
       "      <td>0.228629</td>\n",
       "      <td>0.103809</td>\n",
       "      <td>-0.171362</td>\n",
       "      <td>-0.460872</td>\n",
       "      <td>0.549444</td>\n",
       "      <td>0.147682</td>\n",
       "      <td>0.088058</td>\n",
       "    </tr>\n",
       "    <tr>\n",
       "      <td>gill-color</td>\n",
       "      <td>-0.270247</td>\n",
       "      <td>-0.069180</td>\n",
       "      <td>-0.122924</td>\n",
       "      <td>-0.020306</td>\n",
       "      <td>-0.348658</td>\n",
       "      <td>0.074913</td>\n",
       "      <td>-0.080726</td>\n",
       "      <td>-0.037735</td>\n",
       "      <td>-0.330580</td>\n",
       "      <td>1.000000</td>\n",
       "      <td>...</td>\n",
       "      <td>0.114802</td>\n",
       "      <td>0.057044</td>\n",
       "      <td>-0.064741</td>\n",
       "      <td>-0.101458</td>\n",
       "      <td>-0.048532</td>\n",
       "      <td>0.235151</td>\n",
       "      <td>0.389234</td>\n",
       "      <td>-0.144126</td>\n",
       "      <td>0.027168</td>\n",
       "      <td>0.185011</td>\n",
       "    </tr>\n",
       "    <tr>\n",
       "      <td>stalk-shape</td>\n",
       "      <td>-0.102019</td>\n",
       "      <td>0.248495</td>\n",
       "      <td>0.037139</td>\n",
       "      <td>-0.240248</td>\n",
       "      <td>-0.099364</td>\n",
       "      <td>0.344635</td>\n",
       "      <td>0.186485</td>\n",
       "      <td>0.080895</td>\n",
       "      <td>0.214576</td>\n",
       "      <td>-0.185632</td>\n",
       "      <td>...</td>\n",
       "      <td>-0.041495</td>\n",
       "      <td>0.057663</td>\n",
       "      <td>0.228784</td>\n",
       "      <td>0.251239</td>\n",
       "      <td>0.162604</td>\n",
       "      <td>-0.293221</td>\n",
       "      <td>-0.291444</td>\n",
       "      <td>0.038177</td>\n",
       "      <td>0.087383</td>\n",
       "      <td>0.239285</td>\n",
       "    </tr>\n",
       "    <tr>\n",
       "      <td>stalk-root</td>\n",
       "      <td>0.094766</td>\n",
       "      <td>0.175423</td>\n",
       "      <td>0.386239</td>\n",
       "      <td>-0.143640</td>\n",
       "      <td>0.398393</td>\n",
       "      <td>0.071190</td>\n",
       "      <td>-0.173710</td>\n",
       "      <td>0.152667</td>\n",
       "      <td>0.526677</td>\n",
       "      <td>-0.283404</td>\n",
       "      <td>...</td>\n",
       "      <td>0.004915</td>\n",
       "      <td>-0.127670</td>\n",
       "      <td>0.403830</td>\n",
       "      <td>0.406557</td>\n",
       "      <td>-0.174952</td>\n",
       "      <td>0.210282</td>\n",
       "      <td>-0.557202</td>\n",
       "      <td>0.572069</td>\n",
       "      <td>-0.341311</td>\n",
       "      <td>-0.337422</td>\n",
       "    </tr>\n",
       "    <tr>\n",
       "      <td>stalk-surface-above-ring</td>\n",
       "      <td>-0.215088</td>\n",
       "      <td>-0.070942</td>\n",
       "      <td>0.015424</td>\n",
       "      <td>-0.017087</td>\n",
       "      <td>-0.386893</td>\n",
       "      <td>-0.044410</td>\n",
       "      <td>-0.083189</td>\n",
       "      <td>-0.298008</td>\n",
       "      <td>0.090346</td>\n",
       "      <td>0.114802</td>\n",
       "      <td>...</td>\n",
       "      <td>1.000000</td>\n",
       "      <td>0.377108</td>\n",
       "      <td>0.098698</td>\n",
       "      <td>0.122808</td>\n",
       "      <td>-0.097445</td>\n",
       "      <td>0.079705</td>\n",
       "      <td>0.353121</td>\n",
       "      <td>-0.088313</td>\n",
       "      <td>0.161366</td>\n",
       "      <td>0.290032</td>\n",
       "    </tr>\n",
       "    <tr>\n",
       "      <td>stalk-surface-below-ring</td>\n",
       "      <td>-0.139254</td>\n",
       "      <td>-0.068732</td>\n",
       "      <td>-0.000094</td>\n",
       "      <td>-0.026967</td>\n",
       "      <td>-0.323013</td>\n",
       "      <td>0.060100</td>\n",
       "      <td>-0.075554</td>\n",
       "      <td>-0.241945</td>\n",
       "      <td>0.087102</td>\n",
       "      <td>0.057044</td>\n",
       "      <td>...</td>\n",
       "      <td>0.377108</td>\n",
       "      <td>1.000000</td>\n",
       "      <td>0.043176</td>\n",
       "      <td>0.071024</td>\n",
       "      <td>-0.103183</td>\n",
       "      <td>0.114982</td>\n",
       "      <td>0.297398</td>\n",
       "      <td>-0.046367</td>\n",
       "      <td>0.131140</td>\n",
       "      <td>0.275485</td>\n",
       "    </tr>\n",
       "    <tr>\n",
       "      <td>stalk-color-above-ring</td>\n",
       "      <td>-0.263928</td>\n",
       "      <td>-0.059667</td>\n",
       "      <td>0.250617</td>\n",
       "      <td>-0.044439</td>\n",
       "      <td>-0.197177</td>\n",
       "      <td>-0.012270</td>\n",
       "      <td>0.122946</td>\n",
       "      <td>0.319259</td>\n",
       "      <td>0.271111</td>\n",
       "      <td>-0.064741</td>\n",
       "      <td>...</td>\n",
       "      <td>0.098698</td>\n",
       "      <td>0.043176</td>\n",
       "      <td>1.000000</td>\n",
       "      <td>0.634053</td>\n",
       "      <td>0.103416</td>\n",
       "      <td>0.179667</td>\n",
       "      <td>-0.036693</td>\n",
       "      <td>0.008433</td>\n",
       "      <td>-0.362510</td>\n",
       "      <td>-0.179663</td>\n",
       "    </tr>\n",
       "    <tr>\n",
       "      <td>stalk-color-below-ring</td>\n",
       "      <td>-0.245231</td>\n",
       "      <td>-0.067470</td>\n",
       "      <td>0.260090</td>\n",
       "      <td>-0.025502</td>\n",
       "      <td>-0.213054</td>\n",
       "      <td>-0.026790</td>\n",
       "      <td>0.116158</td>\n",
       "      <td>0.271301</td>\n",
       "      <td>0.228629</td>\n",
       "      <td>-0.101458</td>\n",
       "      <td>...</td>\n",
       "      <td>0.122808</td>\n",
       "      <td>0.071024</td>\n",
       "      <td>0.634053</td>\n",
       "      <td>1.000000</td>\n",
       "      <td>0.097585</td>\n",
       "      <td>0.181723</td>\n",
       "      <td>-0.005017</td>\n",
       "      <td>-0.025539</td>\n",
       "      <td>-0.361025</td>\n",
       "      <td>-0.164883</td>\n",
       "    </tr>\n",
       "    <tr>\n",
       "      <td>veil-color</td>\n",
       "      <td>0.145142</td>\n",
       "      <td>0.036995</td>\n",
       "      <td>-0.154804</td>\n",
       "      <td>0.188903</td>\n",
       "      <td>-0.119770</td>\n",
       "      <td>-0.086768</td>\n",
       "      <td>0.897518</td>\n",
       "      <td>0.073363</td>\n",
       "      <td>0.103809</td>\n",
       "      <td>-0.048532</td>\n",
       "      <td>...</td>\n",
       "      <td>-0.097445</td>\n",
       "      <td>-0.103183</td>\n",
       "      <td>0.103416</td>\n",
       "      <td>0.097585</td>\n",
       "      <td>1.000000</td>\n",
       "      <td>0.036380</td>\n",
       "      <td>-0.143673</td>\n",
       "      <td>-0.042848</td>\n",
       "      <td>0.124924</td>\n",
       "      <td>0.124667</td>\n",
       "    </tr>\n",
       "    <tr>\n",
       "      <td>ring-number</td>\n",
       "      <td>-0.214366</td>\n",
       "      <td>-0.069245</td>\n",
       "      <td>0.060429</td>\n",
       "      <td>0.010226</td>\n",
       "      <td>-0.056788</td>\n",
       "      <td>0.164708</td>\n",
       "      <td>0.093236</td>\n",
       "      <td>0.243014</td>\n",
       "      <td>-0.171362</td>\n",
       "      <td>0.235151</td>\n",
       "      <td>...</td>\n",
       "      <td>0.079705</td>\n",
       "      <td>0.114982</td>\n",
       "      <td>0.179667</td>\n",
       "      <td>0.181723</td>\n",
       "      <td>0.036380</td>\n",
       "      <td>1.000000</td>\n",
       "      <td>0.058312</td>\n",
       "      <td>0.322301</td>\n",
       "      <td>-0.242020</td>\n",
       "      <td>-0.149435</td>\n",
       "    </tr>\n",
       "    <tr>\n",
       "      <td>ring-type</td>\n",
       "      <td>-0.411771</td>\n",
       "      <td>-0.304673</td>\n",
       "      <td>-0.171361</td>\n",
       "      <td>0.088491</td>\n",
       "      <td>-0.692973</td>\n",
       "      <td>-0.161269</td>\n",
       "      <td>-0.146689</td>\n",
       "      <td>-0.195897</td>\n",
       "      <td>-0.460872</td>\n",
       "      <td>0.389234</td>\n",
       "      <td>...</td>\n",
       "      <td>0.353121</td>\n",
       "      <td>0.297398</td>\n",
       "      <td>-0.036693</td>\n",
       "      <td>-0.005017</td>\n",
       "      <td>-0.143673</td>\n",
       "      <td>0.058312</td>\n",
       "      <td>1.000000</td>\n",
       "      <td>-0.573933</td>\n",
       "      <td>0.211763</td>\n",
       "      <td>0.215128</td>\n",
       "    </tr>\n",
       "    <tr>\n",
       "      <td>spore-print-color</td>\n",
       "      <td>0.519438</td>\n",
       "      <td>0.251207</td>\n",
       "      <td>0.310188</td>\n",
       "      <td>-0.079787</td>\n",
       "      <td>0.519982</td>\n",
       "      <td>0.093370</td>\n",
       "      <td>-0.068909</td>\n",
       "      <td>-0.092992</td>\n",
       "      <td>0.549444</td>\n",
       "      <td>-0.144126</td>\n",
       "      <td>...</td>\n",
       "      <td>-0.088313</td>\n",
       "      <td>-0.046367</td>\n",
       "      <td>0.008433</td>\n",
       "      <td>-0.025539</td>\n",
       "      <td>-0.042848</td>\n",
       "      <td>0.322301</td>\n",
       "      <td>-0.573933</td>\n",
       "      <td>1.000000</td>\n",
       "      <td>0.012647</td>\n",
       "      <td>-0.080432</td>\n",
       "    </tr>\n",
       "    <tr>\n",
       "      <td>population</td>\n",
       "      <td>0.298686</td>\n",
       "      <td>0.129000</td>\n",
       "      <td>-0.188979</td>\n",
       "      <td>-0.017712</td>\n",
       "      <td>-0.088137</td>\n",
       "      <td>0.003753</td>\n",
       "      <td>0.165575</td>\n",
       "      <td>-0.529253</td>\n",
       "      <td>0.147682</td>\n",
       "      <td>0.027168</td>\n",
       "      <td>...</td>\n",
       "      <td>0.161366</td>\n",
       "      <td>0.131140</td>\n",
       "      <td>-0.362510</td>\n",
       "      <td>-0.361025</td>\n",
       "      <td>0.124924</td>\n",
       "      <td>-0.242020</td>\n",
       "      <td>0.211763</td>\n",
       "      <td>0.012647</td>\n",
       "      <td>1.000000</td>\n",
       "      <td>0.433095</td>\n",
       "    </tr>\n",
       "    <tr>\n",
       "      <td>habitat</td>\n",
       "      <td>-0.022363</td>\n",
       "      <td>0.134210</td>\n",
       "      <td>-0.191609</td>\n",
       "      <td>-0.089724</td>\n",
       "      <td>-0.305354</td>\n",
       "      <td>0.126054</td>\n",
       "      <td>0.115387</td>\n",
       "      <td>-0.397884</td>\n",
       "      <td>0.088058</td>\n",
       "      <td>0.185011</td>\n",
       "      <td>...</td>\n",
       "      <td>0.290032</td>\n",
       "      <td>0.275485</td>\n",
       "      <td>-0.179663</td>\n",
       "      <td>-0.164883</td>\n",
       "      <td>0.124667</td>\n",
       "      <td>-0.149435</td>\n",
       "      <td>0.215128</td>\n",
       "      <td>-0.080432</td>\n",
       "      <td>0.433095</td>\n",
       "      <td>1.000000</td>\n",
       "    </tr>\n",
       "  </tbody>\n",
       "</table>\n",
       "<p>22 rows × 22 columns</p>\n",
       "</div>"
      ],
      "text/plain": [
       "                             class  cap-shape  cap-surface  cap-color  \\\n",
       "class                     1.000000   0.199488     0.186806   0.058452   \n",
       "cap-shape                 0.199488   1.000000    -0.007059  -0.176574   \n",
       "cap-surface               0.186806  -0.007059     1.000000  -0.022923   \n",
       "cap-color                 0.058452  -0.176574    -0.022923   1.000000   \n",
       "bruises                   0.501530   0.199703     0.019547  -0.034513   \n",
       "odor                     -0.086800   0.251055    -0.105749  -0.318907   \n",
       "gill-attachment           0.129200   0.032099    -0.161757   0.192322   \n",
       "gill-spacing             -0.348387  -0.061368    -0.096076   0.023269   \n",
       "gill-size                 0.540024   0.259001     0.274933  -0.091914   \n",
       "gill-color               -0.270247  -0.069180    -0.122924  -0.020306   \n",
       "stalk-shape              -0.102019   0.248495     0.037139  -0.240248   \n",
       "stalk-root                0.094766   0.175423     0.386239  -0.143640   \n",
       "stalk-surface-above-ring -0.215088  -0.070942     0.015424  -0.017087   \n",
       "stalk-surface-below-ring -0.139254  -0.068732    -0.000094  -0.026967   \n",
       "stalk-color-above-ring   -0.263928  -0.059667     0.250617  -0.044439   \n",
       "stalk-color-below-ring   -0.245231  -0.067470     0.260090  -0.025502   \n",
       "veil-color                0.145142   0.036995    -0.154804   0.188903   \n",
       "ring-number              -0.214366  -0.069245     0.060429   0.010226   \n",
       "ring-type                -0.411771  -0.304673    -0.171361   0.088491   \n",
       "spore-print-color         0.519438   0.251207     0.310188  -0.079787   \n",
       "population                0.298686   0.129000    -0.188979  -0.017712   \n",
       "habitat                  -0.022363   0.134210    -0.191609  -0.089724   \n",
       "\n",
       "                           bruises      odor  gill-attachment  gill-spacing  \\\n",
       "class                     0.501530 -0.086800         0.129200     -0.348387   \n",
       "cap-shape                 0.199703  0.251055         0.032099     -0.061368   \n",
       "cap-surface               0.019547 -0.105749        -0.161757     -0.096076   \n",
       "cap-color                -0.034513 -0.318907         0.192322      0.023269   \n",
       "bruises                   1.000000  0.079235        -0.137359      0.299473   \n",
       "odor                      0.079235  1.000000        -0.092471      0.114297   \n",
       "gill-attachment          -0.137359 -0.092471         1.000000      0.071489   \n",
       "gill-spacing              0.299473  0.114297         0.071489      1.000000   \n",
       "gill-size                 0.369596  0.037037         0.108984     -0.108333   \n",
       "gill-color               -0.348658  0.074913        -0.080726     -0.037735   \n",
       "stalk-shape              -0.099364  0.344635         0.186485      0.080895   \n",
       "stalk-root                0.398393  0.071190        -0.173710      0.152667   \n",
       "stalk-surface-above-ring -0.386893 -0.044410        -0.083189     -0.298008   \n",
       "stalk-surface-below-ring -0.323013  0.060100        -0.075554     -0.241945   \n",
       "stalk-color-above-ring   -0.197177 -0.012270         0.122946      0.319259   \n",
       "stalk-color-below-ring   -0.213054 -0.026790         0.116158      0.271301   \n",
       "veil-color               -0.119770 -0.086768         0.897518      0.073363   \n",
       "ring-number              -0.056788  0.164708         0.093236      0.243014   \n",
       "ring-type                -0.692973 -0.161269        -0.146689     -0.195897   \n",
       "spore-print-color         0.519982  0.093370        -0.068909     -0.092992   \n",
       "population               -0.088137  0.003753         0.165575     -0.529253   \n",
       "habitat                  -0.305354  0.126054         0.115387     -0.397884   \n",
       "\n",
       "                          gill-size  gill-color  ...  \\\n",
       "class                      0.540024   -0.270247  ...   \n",
       "cap-shape                  0.259001   -0.069180  ...   \n",
       "cap-surface                0.274933   -0.122924  ...   \n",
       "cap-color                 -0.091914   -0.020306  ...   \n",
       "bruises                    0.369596   -0.348658  ...   \n",
       "odor                       0.037037    0.074913  ...   \n",
       "gill-attachment            0.108984   -0.080726  ...   \n",
       "gill-spacing              -0.108333   -0.037735  ...   \n",
       "gill-size                  1.000000   -0.330580  ...   \n",
       "gill-color                -0.330580    1.000000  ...   \n",
       "stalk-shape                0.214576   -0.185632  ...   \n",
       "stalk-root                 0.526677   -0.283404  ...   \n",
       "stalk-surface-above-ring   0.090346    0.114802  ...   \n",
       "stalk-surface-below-ring   0.087102    0.057044  ...   \n",
       "stalk-color-above-ring     0.271111   -0.064741  ...   \n",
       "stalk-color-below-ring     0.228629   -0.101458  ...   \n",
       "veil-color                 0.103809   -0.048532  ...   \n",
       "ring-number               -0.171362    0.235151  ...   \n",
       "ring-type                 -0.460872    0.389234  ...   \n",
       "spore-print-color          0.549444   -0.144126  ...   \n",
       "population                 0.147682    0.027168  ...   \n",
       "habitat                    0.088058    0.185011  ...   \n",
       "\n",
       "                          stalk-surface-above-ring  stalk-surface-below-ring  \\\n",
       "class                                    -0.215088                 -0.139254   \n",
       "cap-shape                                -0.070942                 -0.068732   \n",
       "cap-surface                               0.015424                 -0.000094   \n",
       "cap-color                                -0.017087                 -0.026967   \n",
       "bruises                                  -0.386893                 -0.323013   \n",
       "odor                                     -0.044410                  0.060100   \n",
       "gill-attachment                          -0.083189                 -0.075554   \n",
       "gill-spacing                             -0.298008                 -0.241945   \n",
       "gill-size                                 0.090346                  0.087102   \n",
       "gill-color                                0.114802                  0.057044   \n",
       "stalk-shape                              -0.041495                  0.057663   \n",
       "stalk-root                                0.004915                 -0.127670   \n",
       "stalk-surface-above-ring                  1.000000                  0.377108   \n",
       "stalk-surface-below-ring                  0.377108                  1.000000   \n",
       "stalk-color-above-ring                    0.098698                  0.043176   \n",
       "stalk-color-below-ring                    0.122808                  0.071024   \n",
       "veil-color                               -0.097445                 -0.103183   \n",
       "ring-number                               0.079705                  0.114982   \n",
       "ring-type                                 0.353121                  0.297398   \n",
       "spore-print-color                        -0.088313                 -0.046367   \n",
       "population                                0.161366                  0.131140   \n",
       "habitat                                   0.290032                  0.275485   \n",
       "\n",
       "                          stalk-color-above-ring  stalk-color-below-ring  \\\n",
       "class                                  -0.263928               -0.245231   \n",
       "cap-shape                              -0.059667               -0.067470   \n",
       "cap-surface                             0.250617                0.260090   \n",
       "cap-color                              -0.044439               -0.025502   \n",
       "bruises                                -0.197177               -0.213054   \n",
       "odor                                   -0.012270               -0.026790   \n",
       "gill-attachment                         0.122946                0.116158   \n",
       "gill-spacing                            0.319259                0.271301   \n",
       "gill-size                               0.271111                0.228629   \n",
       "gill-color                             -0.064741               -0.101458   \n",
       "stalk-shape                             0.228784                0.251239   \n",
       "stalk-root                              0.403830                0.406557   \n",
       "stalk-surface-above-ring                0.098698                0.122808   \n",
       "stalk-surface-below-ring                0.043176                0.071024   \n",
       "stalk-color-above-ring                  1.000000                0.634053   \n",
       "stalk-color-below-ring                  0.634053                1.000000   \n",
       "veil-color                              0.103416                0.097585   \n",
       "ring-number                             0.179667                0.181723   \n",
       "ring-type                              -0.036693               -0.005017   \n",
       "spore-print-color                       0.008433               -0.025539   \n",
       "population                             -0.362510               -0.361025   \n",
       "habitat                                -0.179663               -0.164883   \n",
       "\n",
       "                          veil-color  ring-number  ring-type  \\\n",
       "class                       0.145142    -0.214366  -0.411771   \n",
       "cap-shape                   0.036995    -0.069245  -0.304673   \n",
       "cap-surface                -0.154804     0.060429  -0.171361   \n",
       "cap-color                   0.188903     0.010226   0.088491   \n",
       "bruises                    -0.119770    -0.056788  -0.692973   \n",
       "odor                       -0.086768     0.164708  -0.161269   \n",
       "gill-attachment             0.897518     0.093236  -0.146689   \n",
       "gill-spacing                0.073363     0.243014  -0.195897   \n",
       "gill-size                   0.103809    -0.171362  -0.460872   \n",
       "gill-color                 -0.048532     0.235151   0.389234   \n",
       "stalk-shape                 0.162604    -0.293221  -0.291444   \n",
       "stalk-root                 -0.174952     0.210282  -0.557202   \n",
       "stalk-surface-above-ring   -0.097445     0.079705   0.353121   \n",
       "stalk-surface-below-ring   -0.103183     0.114982   0.297398   \n",
       "stalk-color-above-ring      0.103416     0.179667  -0.036693   \n",
       "stalk-color-below-ring      0.097585     0.181723  -0.005017   \n",
       "veil-color                  1.000000     0.036380  -0.143673   \n",
       "ring-number                 0.036380     1.000000   0.058312   \n",
       "ring-type                  -0.143673     0.058312   1.000000   \n",
       "spore-print-color          -0.042848     0.322301  -0.573933   \n",
       "population                  0.124924    -0.242020   0.211763   \n",
       "habitat                     0.124667    -0.149435   0.215128   \n",
       "\n",
       "                          spore-print-color  population   habitat  \n",
       "class                              0.519438    0.298686 -0.022363  \n",
       "cap-shape                          0.251207    0.129000  0.134210  \n",
       "cap-surface                        0.310188   -0.188979 -0.191609  \n",
       "cap-color                         -0.079787   -0.017712 -0.089724  \n",
       "bruises                            0.519982   -0.088137 -0.305354  \n",
       "odor                               0.093370    0.003753  0.126054  \n",
       "gill-attachment                   -0.068909    0.165575  0.115387  \n",
       "gill-spacing                      -0.092992   -0.529253 -0.397884  \n",
       "gill-size                          0.549444    0.147682  0.088058  \n",
       "gill-color                        -0.144126    0.027168  0.185011  \n",
       "stalk-shape                        0.038177    0.087383  0.239285  \n",
       "stalk-root                         0.572069   -0.341311 -0.337422  \n",
       "stalk-surface-above-ring          -0.088313    0.161366  0.290032  \n",
       "stalk-surface-below-ring          -0.046367    0.131140  0.275485  \n",
       "stalk-color-above-ring             0.008433   -0.362510 -0.179663  \n",
       "stalk-color-below-ring            -0.025539   -0.361025 -0.164883  \n",
       "veil-color                        -0.042848    0.124924  0.124667  \n",
       "ring-number                        0.322301   -0.242020 -0.149435  \n",
       "ring-type                         -0.573933    0.211763  0.215128  \n",
       "spore-print-color                  1.000000    0.012647 -0.080432  \n",
       "population                         0.012647    1.000000  0.433095  \n",
       "habitat                           -0.080432    0.433095  1.000000  \n",
       "\n",
       "[22 rows x 22 columns]"
      ]
     },
     "execution_count": 48,
     "metadata": {},
     "output_type": "execute_result"
    }
   ],
   "source": [
    "dfmushroom.corr()"
   ]
  },
  {
   "cell_type": "code",
   "execution_count": 49,
   "metadata": {},
   "outputs": [
    {
     "data": {
      "text/plain": [
       "<matplotlib.colorbar.Colorbar at 0x1d5942d45c8>"
      ]
     },
     "execution_count": 49,
     "metadata": {},
     "output_type": "execute_result"
    },
    {
     "data": {
      "image/png": "[encoded data removed]",
      "text/plain": [
       "<Figure size 432x288 with 2 Axes>"
      ]
     },
     "metadata": {
      "needs_background": "light"
     },
     "output_type": "display_data"
    }
   ],
   "source": [
    "plt.imshow(dfmushroom.corr())\n",
    "plt.xticks(np.arange(23), dfmushroom.columns, rotation = 90)\n",
    "plt.yticks(np.arange(23), dfmushroom.columns)\n",
    "plt.colorbar()"
   ]
  },
  {
   "cell_type": "markdown",
   "metadata": {},
   "source": [
    "## 7. Train Test Split"
   ]
  },
  {
   "cell_type": "code",
   "execution_count": 50,
   "metadata": {},
   "outputs": [],
   "source": [
    "xtr,xts,ytr,yts = train_test_split(\n",
    "    dfmushroom[['cap-shape', 'cap-surface', 'cap-color', 'bruises', 'odor',\n",
    "       'gill-attachment', 'gill-spacing', 'gill-size', 'gill-color',\n",
    "       'stalk-shape', 'stalk-root', 'stalk-surface-above-ring',\n",
    "       'stalk-surface-below-ring', 'stalk-color-above-ring',\n",
    "       'stalk-color-below-ring', 'veil-color', 'ring-number',\n",
    "       'ring-type', 'spore-print-color', 'population', 'habitat']],\n",
    "    dfmushroom['class'],\n",
    "    test_size = .1\n",
    ")"
   ]
  },
  {
   "cell_type": "markdown",
   "metadata": {},
   "source": [
    "## 8. Applying Models (K-Nearest Neighbour, Logistic Regression, Random Forest Classifier)"
   ]
  },
  {
   "cell_type": "code",
   "execution_count": 51,
   "metadata": {},
   "outputs": [
    {
     "data": {
      "text/plain": [
       "RandomForestClassifier(bootstrap=True, class_weight=None, criterion='gini',\n",
       "                       max_depth=None, max_features='auto', max_leaf_nodes=None,\n",
       "                       min_impurity_decrease=0.0, min_impurity_split=None,\n",
       "                       min_samples_leaf=1, min_samples_split=2,\n",
       "                       min_weight_fraction_leaf=0.0, n_estimators=100,\n",
       "                       n_jobs=None, oob_score=False, random_state=None,\n",
       "                       verbose=0, warm_start=False)"
      ]
     },
     "execution_count": 51,
     "metadata": {},
     "output_type": "execute_result"
    }
   ],
   "source": [
    "def nilai_k():\n",
    "    k = round((len(xtr)+len(xts)) ** .5)\n",
    "    if (k % 2 == 0):\n",
    "        return k + 1\n",
    "    else:\n",
    "        return k\n",
    "    \n",
    "modelknn = KNeighborsClassifier(\n",
    "    n_neighbors = nilai_k()\n",
    ")\n",
    "modelknn.fit(xtr,ytr)\n",
    "\n",
    "logmodel = LogisticRegression(solver='lbfgs',max_iter=1000)\n",
    "logmodel.fit(xtr,ytr)\n",
    "\n",
    "modelrfc = RandomForestClassifier(n_estimators=100)\n",
    "modelrfc.fit(xtr,ytr)"
   ]
  },
  {
   "cell_type": "markdown",
   "metadata": {},
   "source": [
    "## 9. Cross Validating Scores of each Models"
   ]
  },
  {
   "cell_type": "code",
   "execution_count": 52,
   "metadata": {},
   "outputs": [
    {
     "data": {
      "text/plain": [
       "0.9611544248392833"
      ]
     },
     "execution_count": 52,
     "metadata": {},
     "output_type": "execute_result"
    }
   ],
   "source": [
    "(cross_val_score(modelrfc,xtr,ytr,cv = 5).mean())"
   ]
  },
  {
   "cell_type": "markdown",
   "metadata": {},
   "source": [
    "## 10. Prediction, Classification Report, Confusion Matrix, ROC AUC, Accuracy, and Matthews Correlation Coefficient"
   ]
  },
  {
   "cell_type": "code",
   "execution_count": 58,
   "metadata": {},
   "outputs": [
    {
     "data": {
      "text/plain": [
       "array([0, 1, 1, 1, 0, 1, 1, 0, 1, 0, 0, 0, 1, 0, 0, 0, 1, 1, 0, 0, 0, 0,\n",
       "       0, 0, 0, 1, 1, 1, 0, 0, 0, 1, 0, 0, 1, 0, 1, 1, 0, 1, 0, 1, 0, 1,\n",
       "       1, 0, 1, 1, 0, 1, 1, 1, 0, 1, 0, 0, 1, 0, 1, 1, 0, 0, 1, 0, 0, 0,\n",
       "       1, 0, 1, 0, 0, 1, 0, 0, 1, 0, 0, 1, 1, 0, 0, 0, 1, 1, 0, 1, 1, 1,\n",
       "       0, 0, 1, 1, 1, 1, 0, 1, 1, 0, 0, 0, 1, 1, 0, 0, 0, 0, 0, 1, 0, 0,\n",
       "       1, 0, 1, 0, 0, 1, 0, 1, 1, 1, 1, 1, 0, 0, 0, 1, 0, 0, 1, 0, 0, 0,\n",
       "       0, 1, 0, 1, 0, 0, 0, 1, 0, 1, 1, 1, 0, 0, 1, 0, 1, 1, 1, 0, 0, 1,\n",
       "       0, 0, 0, 0, 0, 1, 1, 1, 1, 1, 1, 1, 0, 0, 0, 0, 1, 0, 0, 1, 0, 0,\n",
       "       0, 0, 1, 0, 1, 0, 0, 0, 1, 1, 0, 1, 1, 1, 1, 1, 1, 0, 0, 1, 1, 0,\n",
       "       0, 0, 0, 0, 0, 0, 0, 0, 1, 0, 0, 0, 1, 1, 1, 1, 0, 0, 1, 0, 0, 0,\n",
       "       1, 0, 1, 0, 1, 0, 0, 0, 1, 0, 0, 0, 0, 0, 0, 1, 0, 1, 1, 0, 0, 0,\n",
       "       1, 1, 0, 1, 1, 1, 1, 1, 0, 1, 1, 1, 1, 0, 1, 0, 1, 0, 0, 1, 0, 1,\n",
       "       0, 0, 0, 0, 1, 0, 0, 0, 0, 1, 0, 0, 0, 0, 1, 0, 0, 1, 1, 1, 0, 1,\n",
       "       0, 0, 0, 1, 0, 0, 1, 1, 1, 1, 1, 0, 1, 1, 0, 1, 0, 1, 1, 0, 0, 0,\n",
       "       0, 0, 0, 1, 1, 1, 0, 1, 0, 1, 0, 1, 0, 0, 0, 1, 1, 0, 1, 0, 0, 1,\n",
       "       1, 0, 0, 0, 0, 1, 0, 1, 1, 0, 0, 1, 1, 1, 1, 0, 0, 1, 0, 1, 1, 0,\n",
       "       1, 0, 1, 1, 0, 0, 1, 0, 1, 1, 0, 0, 1, 1, 0, 1, 0, 0, 1, 0, 0, 0,\n",
       "       1, 1, 0, 1, 1, 0, 0, 0, 0, 0, 0, 1, 1, 1, 1, 0, 1, 0, 0, 1, 0, 1,\n",
       "       0, 1, 1, 1, 1, 1, 0, 1, 1, 1, 0, 0, 0, 1, 0, 1, 0, 1, 0, 1, 1, 0,\n",
       "       0, 1, 0, 1, 1, 0, 1, 1, 0, 1, 0, 0, 0, 0, 0, 0, 1, 1, 1, 1, 0, 1,\n",
       "       1, 1, 1, 0, 0, 1, 0, 0, 0, 0, 1, 1, 1, 0, 1, 0, 0, 0, 1, 0, 0, 0,\n",
       "       0, 1, 0, 1, 1, 1, 1, 0, 1, 0, 0, 1, 1, 1, 0, 0, 0, 1, 1, 0, 0, 0,\n",
       "       1, 1, 1, 0, 0, 1, 1, 0, 1, 0, 1, 0, 0, 1, 0, 0, 1, 1, 1, 1, 0, 0,\n",
       "       0, 1, 1, 0, 0, 1, 0, 1, 1, 1, 1, 1, 1, 0, 1, 1, 0, 1, 0, 0, 0, 0,\n",
       "       1, 1, 0, 0, 0, 1, 0, 0, 0, 0, 0, 0, 0, 0, 1, 0, 1, 1, 1, 1, 0, 0,\n",
       "       0, 1, 0, 0, 1, 1, 0, 1, 0, 1, 1, 0, 0, 0, 0, 1, 0, 1, 1, 0, 0, 1,\n",
       "       0, 1, 0, 1, 1, 0, 0, 0, 0, 1, 1, 0, 1, 1, 0, 1, 1, 1, 0, 0, 1, 1,\n",
       "       1, 1, 0, 1, 0, 0, 0, 1, 1, 0, 0, 0, 0, 0, 1, 1, 0, 1, 0, 0, 0, 0,\n",
       "       1, 1, 1, 0, 0, 1, 1, 1, 1, 1, 0, 1, 0, 1, 0, 1, 1, 1, 0, 1, 1, 1,\n",
       "       1, 1, 1, 1, 1, 0, 1, 0, 1, 0, 1, 0, 0, 0, 1, 0, 0, 0, 1, 1, 0, 1,\n",
       "       0, 0, 1, 1, 0, 1, 0, 0, 0, 0, 1, 1, 1, 1, 1, 1, 0, 1, 0, 0, 1, 0,\n",
       "       1, 0, 0, 1, 0, 1, 1, 0, 1, 0, 0, 0, 0, 0, 1, 0, 0, 0, 1, 0, 0, 0,\n",
       "       1, 0, 1, 1, 0, 0, 0, 0, 0, 1, 1, 0, 0, 0, 1, 0, 0, 1, 0, 0, 1, 0,\n",
       "       0, 1, 1, 0, 1, 0, 0, 1, 1, 1, 1, 0, 0, 0, 0, 0, 0, 1, 1, 1, 1, 0,\n",
       "       0, 1, 0, 1, 0, 0, 0, 0, 1, 0, 0, 1, 0, 0, 1, 0, 1, 0, 0, 1, 0, 1,\n",
       "       0, 0, 0, 1, 0, 1, 1, 1, 0, 1, 0, 0, 1, 0, 0, 0, 0, 0, 0, 1, 1, 1,\n",
       "       1, 1, 0, 0, 0, 1, 0, 1, 0, 0, 1, 1, 1, 1, 0, 0, 0, 1, 0, 1, 0])"
      ]
     },
     "execution_count": 58,
     "metadata": {},
     "output_type": "execute_result"
    }
   ],
   "source": [
    "pred = modelrfc.predict(xts)\n",
    "predProb = modelrfc.predict_proba(xts)\n",
    "pred"
   ]
  },
  {
   "cell_type": "code",
   "execution_count": 59,
   "metadata": {},
   "outputs": [
    {
     "name": "stdout",
     "output_type": "stream",
     "text": [
      "              precision    recall  f1-score   support\n",
      "\n",
      "           0       0.95      0.97      0.96       425\n",
      "           1       0.97      0.95      0.96       388\n",
      "\n",
      "    accuracy                           0.96       813\n",
      "   macro avg       0.96      0.96      0.96       813\n",
      "weighted avg       0.96      0.96      0.96       813\n",
      "\n"
     ]
    }
   ],
   "source": [
    "print(classification_report(yts,pred))"
   ]
  },
  {
   "cell_type": "code",
   "execution_count": 60,
   "metadata": {},
   "outputs": [
    {
     "name": "stdout",
     "output_type": "stream",
     "text": [
      "[[414  11]\n",
      " [ 21 367]]\n"
     ]
    }
   ],
   "source": [
    "print(confusion_matrix(yts,pred))"
   ]
  },
  {
   "cell_type": "code",
   "execution_count": 63,
   "metadata": {},
   "outputs": [],
   "source": [
    "predict_tr = modelrfc.predict(xtr)\n",
    "predictProb_tr = modelrfc.predict_proba(xtr)"
   ]
  },
  {
   "cell_type": "code",
   "execution_count": 64,
   "metadata": {},
   "outputs": [
    {
     "name": "stdout",
     "output_type": "stream",
     "text": [
      "              precision    recall  f1-score   support\n",
      "\n",
      "           0       0.97      0.96      0.96      3783\n",
      "           1       0.96      0.96      0.96      3528\n",
      "\n",
      "    accuracy                           0.96      7311\n",
      "   macro avg       0.96      0.96      0.96      7311\n",
      "weighted avg       0.96      0.96      0.96      7311\n",
      "\n"
     ]
    }
   ],
   "source": [
    "print(classification_report(ytr,predict_tr))"
   ]
  },
  {
   "cell_type": "code",
   "execution_count": 65,
   "metadata": {},
   "outputs": [
    {
     "name": "stdout",
     "output_type": "stream",
     "text": [
      "[[3629  154]\n",
      " [ 124 3404]]\n"
     ]
    }
   ],
   "source": [
    "print(confusion_matrix(ytr,predict_tr))"
   ]
  },
  {
   "cell_type": "code",
   "execution_count": 66,
   "metadata": {},
   "outputs": [
    {
     "name": "stdout",
     "output_type": "stream",
     "text": [
      "ROC AUC : 0.990895763539357\n",
      "Accuracy : 0.9619751060046505\n",
      "Matthews Corr_coef : 0.9239105693022198\n"
     ]
    }
   ],
   "source": [
    "print('ROC AUC :', roc_auc_score(ytr, predictProb_tr[:,1]))\n",
    "print('Accuracy :',accuracy_score(ytr, predict_tr))\n",
    "print('Matthews Corr_coef :',matthews_corrcoef(ytr, predict_tr))"
   ]
  },
  {
   "cell_type": "code",
   "execution_count": 68,
   "metadata": {},
   "outputs": [
    {
     "name": "stdout",
     "output_type": "stream",
     "text": [
      "ROC AUC : 0.990018192844148\n",
      "Accuracy : 0.9606396063960639\n",
      "Matthews Corr_coef : 0.9213078340461947\n"
     ]
    }
   ],
   "source": [
    "print('ROC AUC :', roc_auc_score(yts, predProb[:,1]))\n",
    "print('Accuracy :',accuracy_score(yts, pred))\n",
    "print('Matthews Corr_coef :',matthews_corrcoef(yts, pred))"
   ]
  },
  {
   "cell_type": "markdown",
   "metadata": {},
   "source": [
    "## 11. Dumping model into joblib file"
   ]
  },
  {
   "cell_type": "code",
   "execution_count": 69,
   "metadata": {},
   "outputs": [
    {
     "data": {
      "text/plain": [
       "['modelmushroom']"
      ]
     },
     "execution_count": 69,
     "metadata": {},
     "output_type": "execute_result"
    }
   ],
   "source": [
    "import joblib as jb\n",
    "jb.dump(modelrfc,'modelmushroom')"
   ]
  }
 ],
 "metadata": {
  "kernelspec": {
   "display_name": "Python 3",
   "language": "python",
   "name": "python3"
  },
  "language_info": {
   "codemirror_mode": {
    "name": "ipython",
    "version": 3
   },
   "file_extension": ".py",
   "mimetype": "text/x-python",
   "name": "python",
   "nbconvert_exporter": "python",
   "pygments_lexer": "ipython3",
   "version": "3.7.4"
  }
 },
 "nbformat": 4,
 "nbformat_minor": 4
}
